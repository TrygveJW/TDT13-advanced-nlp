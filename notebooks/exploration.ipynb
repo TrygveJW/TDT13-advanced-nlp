{
 "cells": [
  {
   "cell_type": "code",
   "execution_count": 1,
   "id": "2e9fa43e-a862-43c4-b3cb-2da9c11af62a",
   "metadata": {},
   "outputs": [
    {
     "name": "stdout",
     "output_type": "stream",
     "text": [
      "/home/trygve/development/skole/advanced_nlp/TDT13-advanced-nlp/src\n"
     ]
    }
   ],
   "source": [
    "%cd ./../src\n",
    "%load_ext autoreload\n",
    "%autoreload 2"
   ]
  },
  {
   "cell_type": "code",
   "execution_count": 17,
   "id": "8637051a-2832-4764-b529-af5fe7b2aa2c",
   "metadata": {},
   "outputs": [],
   "source": [
    "import pandas as pd\n",
    "import plotly.express as px\n",
    "import plotly.graph_objects as go\n",
    "from plotly.subplots import make_subplots\n",
    "from data_util import *\n",
    "\n",
    "from data_util import fetch_dataset"
   ]
  },
  {
   "cell_type": "code",
   "execution_count": 3,
   "id": "cbfa8efa-1aeb-4429-aaf4-cffb3515011b",
   "metadata": {},
   "outputs": [
    {
     "name": "stdout",
     "output_type": "stream",
     "text": [
      "INFO: Pandarallel will run on 6 workers.\n",
      "INFO: Pandarallel will use Memory file system to transfer data between the main process and workers.\n"
     ]
    }
   ],
   "source": [
    "from pandarallel import pandarallel\n",
    "\n",
    "pandarallel.initialize(progress_bar=False)"
   ]
  },
  {
   "cell_type": "code",
   "execution_count": 19,
   "id": "c7de012e-be40-4326-81e8-d6b923635f23",
   "metadata": {},
   "outputs": [
    {
     "data": {
      "text/html": [
       "<div>\n",
       "<style scoped>\n",
       "    .dataframe tbody tr th:only-of-type {\n",
       "        vertical-align: middle;\n",
       "    }\n",
       "\n",
       "    .dataframe tbody tr th {\n",
       "        vertical-align: top;\n",
       "    }\n",
       "\n",
       "    .dataframe thead th {\n",
       "        text-align: right;\n",
       "    }\n",
       "</style>\n",
       "<table border=\"1\" class=\"dataframe\">\n",
       "  <thead>\n",
       "    <tr style=\"text-align: right;\">\n",
       "      <th></th>\n",
       "      <th>review_id</th>\n",
       "      <th>product_id</th>\n",
       "      <th>reviewer_id</th>\n",
       "      <th>stars</th>\n",
       "      <th>review_body</th>\n",
       "      <th>review_title</th>\n",
       "      <th>language</th>\n",
       "      <th>product_category</th>\n",
       "    </tr>\n",
       "  </thead>\n",
       "  <tbody>\n",
       "    <tr>\n",
       "      <th>0</th>\n",
       "      <td>fr_0424335</td>\n",
       "      <td>product_fr_0297678</td>\n",
       "      <td>reviewer_fr_0961886</td>\n",
       "      <td>1</td>\n",
       "      <td>A déconseiller - Article n'a fonctionné qu'une...</td>\n",
       "      <td>Brumisateur à pompe</td>\n",
       "      <td>fr</td>\n",
       "      <td>beauty</td>\n",
       "    </tr>\n",
       "    <tr>\n",
       "      <th>1</th>\n",
       "      <td>fr_0452615</td>\n",
       "      <td>product_fr_0613288</td>\n",
       "      <td>reviewer_fr_0857499</td>\n",
       "      <td>1</td>\n",
       "      <td>Si vous voulez être déçu achetez le produit ! ...</td>\n",
       "      <td>Insatisfaisant</td>\n",
       "      <td>fr</td>\n",
       "      <td>baby_product</td>\n",
       "    </tr>\n",
       "    <tr>\n",
       "      <th>2</th>\n",
       "      <td>fr_0407673</td>\n",
       "      <td>product_fr_0571250</td>\n",
       "      <td>reviewer_fr_0383240</td>\n",
       "      <td>1</td>\n",
       "      <td>Écran de mauvaise qualité, car il s'use en peu...</td>\n",
       "      <td>Ne recommande pas</td>\n",
       "      <td>fr</td>\n",
       "      <td>pc</td>\n",
       "    </tr>\n",
       "    <tr>\n",
       "      <th>3</th>\n",
       "      <td>fr_0579191</td>\n",
       "      <td>product_fr_0030168</td>\n",
       "      <td>reviewer_fr_0729693</td>\n",
       "      <td>1</td>\n",
       "      <td>Cet engin ne sert à rien les sons sont pourris...</td>\n",
       "      <td>A éviter!</td>\n",
       "      <td>fr</td>\n",
       "      <td>musical_instruments</td>\n",
       "    </tr>\n",
       "    <tr>\n",
       "      <th>4</th>\n",
       "      <td>fr_0931533</td>\n",
       "      <td>product_fr_0468261</td>\n",
       "      <td>reviewer_fr_0734066</td>\n",
       "      <td>1</td>\n",
       "      <td>Très beau produit mais la grue n'a pas fonctio...</td>\n",
       "      <td>Déçue</td>\n",
       "      <td>fr</td>\n",
       "      <td>toy</td>\n",
       "    </tr>\n",
       "    <tr>\n",
       "      <th>...</th>\n",
       "      <td>...</td>\n",
       "      <td>...</td>\n",
       "      <td>...</td>\n",
       "      <td>...</td>\n",
       "      <td>...</td>\n",
       "      <td>...</td>\n",
       "      <td>...</td>\n",
       "      <td>...</td>\n",
       "    </tr>\n",
       "    <tr>\n",
       "      <th>199995</th>\n",
       "      <td>fr_0907472</td>\n",
       "      <td>product_fr_0369223</td>\n",
       "      <td>reviewer_fr_0155780</td>\n",
       "      <td>5</td>\n",
       "      <td>Très jolies boucles! Très belle qualité ! Elle...</td>\n",
       "      <td>Top</td>\n",
       "      <td>fr</td>\n",
       "      <td>jewelry</td>\n",
       "    </tr>\n",
       "    <tr>\n",
       "      <th>199996</th>\n",
       "      <td>fr_0345478</td>\n",
       "      <td>product_fr_0271680</td>\n",
       "      <td>reviewer_fr_0933970</td>\n",
       "      <td>5</td>\n",
       "      <td>Superbe. Ultra rapide. Tres bel écran. Il y a ...</td>\n",
       "      <td>Confirme à sa reputation de smartphone le plus...</td>\n",
       "      <td>fr</td>\n",
       "      <td>wireless</td>\n",
       "    </tr>\n",
       "    <tr>\n",
       "      <th>199997</th>\n",
       "      <td>fr_0195162</td>\n",
       "      <td>product_fr_0132362</td>\n",
       "      <td>reviewer_fr_0820277</td>\n",
       "      <td>5</td>\n",
       "      <td>facile d'utilisation mais un peu lourd</td>\n",
       "      <td>pratique</td>\n",
       "      <td>fr</td>\n",
       "      <td>kitchen</td>\n",
       "    </tr>\n",
       "    <tr>\n",
       "      <th>199998</th>\n",
       "      <td>fr_0250763</td>\n",
       "      <td>product_fr_0966190</td>\n",
       "      <td>reviewer_fr_0485706</td>\n",
       "      <td>5</td>\n",
       "      <td>livré vite et bon produit</td>\n",
       "      <td>livré vite et bon produit</td>\n",
       "      <td>fr</td>\n",
       "      <td>beauty</td>\n",
       "    </tr>\n",
       "    <tr>\n",
       "      <th>199999</th>\n",
       "      <td>fr_0622301</td>\n",
       "      <td>product_fr_0393815</td>\n",
       "      <td>reviewer_fr_0805419</td>\n",
       "      <td>5</td>\n",
       "      <td>Parfait La Réception du coli avant l’heure Pro...</td>\n",
       "      <td>Cartable garcon</td>\n",
       "      <td>fr</td>\n",
       "      <td>luggage</td>\n",
       "    </tr>\n",
       "  </tbody>\n",
       "</table>\n",
       "<p>200000 rows × 8 columns</p>\n",
       "</div>"
      ],
      "text/plain": [
       "         review_id          product_id          reviewer_id stars  \\\n",
       "0       fr_0424335  product_fr_0297678  reviewer_fr_0961886     1   \n",
       "1       fr_0452615  product_fr_0613288  reviewer_fr_0857499     1   \n",
       "2       fr_0407673  product_fr_0571250  reviewer_fr_0383240     1   \n",
       "3       fr_0579191  product_fr_0030168  reviewer_fr_0729693     1   \n",
       "4       fr_0931533  product_fr_0468261  reviewer_fr_0734066     1   \n",
       "...            ...                 ...                  ...   ...   \n",
       "199995  fr_0907472  product_fr_0369223  reviewer_fr_0155780     5   \n",
       "199996  fr_0345478  product_fr_0271680  reviewer_fr_0933970     5   \n",
       "199997  fr_0195162  product_fr_0132362  reviewer_fr_0820277     5   \n",
       "199998  fr_0250763  product_fr_0966190  reviewer_fr_0485706     5   \n",
       "199999  fr_0622301  product_fr_0393815  reviewer_fr_0805419     5   \n",
       "\n",
       "                                              review_body  \\\n",
       "0       A déconseiller - Article n'a fonctionné qu'une...   \n",
       "1       Si vous voulez être déçu achetez le produit ! ...   \n",
       "2       Écran de mauvaise qualité, car il s'use en peu...   \n",
       "3       Cet engin ne sert à rien les sons sont pourris...   \n",
       "4       Très beau produit mais la grue n'a pas fonctio...   \n",
       "...                                                   ...   \n",
       "199995  Très jolies boucles! Très belle qualité ! Elle...   \n",
       "199996  Superbe. Ultra rapide. Tres bel écran. Il y a ...   \n",
       "199997             facile d'utilisation mais un peu lourd   \n",
       "199998                          livré vite et bon produit   \n",
       "199999  Parfait La Réception du coli avant l’heure Pro...   \n",
       "\n",
       "                                             review_title language  \\\n",
       "0                                     Brumisateur à pompe       fr   \n",
       "1                                          Insatisfaisant       fr   \n",
       "2                                       Ne recommande pas       fr   \n",
       "3                                               A éviter!       fr   \n",
       "4                                                   Déçue       fr   \n",
       "...                                                   ...      ...   \n",
       "199995                                                Top       fr   \n",
       "199996  Confirme à sa reputation de smartphone le plus...       fr   \n",
       "199997                                           pratique       fr   \n",
       "199998                          livré vite et bon produit       fr   \n",
       "199999                                    Cartable garcon       fr   \n",
       "\n",
       "           product_category  \n",
       "0                    beauty  \n",
       "1              baby_product  \n",
       "2                        pc  \n",
       "3       musical_instruments  \n",
       "4                       toy  \n",
       "...                     ...  \n",
       "199995              jewelry  \n",
       "199996             wireless  \n",
       "199997              kitchen  \n",
       "199998               beauty  \n",
       "199999              luggage  \n",
       "\n",
       "[200000 rows x 8 columns]"
      ]
     },
     "execution_count": 19,
     "metadata": {},
     "output_type": "execute_result"
    }
   ],
   "source": [
    "raw_df = fetch_dataset(\"./../data/dataset_fr_train.json\")\n",
    "raw_df"
   ]
  },
  {
   "cell_type": "code",
   "execution_count": 24,
   "id": "f5da87e4-5809-4656-98ca-db4876400555",
   "metadata": {},
   "outputs": [
    {
     "data": {
      "text/plain": [
       "home                        28589\n",
       "wireless                    26206\n",
       "home_improvement            13105\n",
       "toy                         12503\n",
       "pc                           9691\n",
       "sports                       8419\n",
       "beauty                       8227\n",
       "book                         8210\n",
       "electronics                  8209\n",
       "drugstore                    6040\n",
       "kitchen                      5959\n",
       "automotive                   5825\n",
       "apparel                      5771\n",
       "lawn_and_garden              5474\n",
       "pet_products                 5393\n",
       "furniture                    5393\n",
       "other                        4974\n",
       "baby_product                 4895\n",
       "office_product               4711\n",
       "personal_care_appliances     3211\n",
       "luggage                      2896\n",
       "camera                       2551\n",
       "jewelry                      2360\n",
       "shoes                        2120\n",
       "video_games                  1870\n",
       "digital_ebook_purchase       1785\n",
       "industrial_supplies          1562\n",
       "watch                        1474\n",
       "grocery                      1373\n",
       "musical_instruments          1204\n",
       "Name: product_category, dtype: int64"
      ]
     },
     "execution_count": 24,
     "metadata": {},
     "output_type": "execute_result"
    }
   ],
   "source": [
    "raw_df[\"product_category\"].value_counts()"
   ]
  },
  {
   "cell_type": "code",
   "execution_count": 25,
   "id": "c6a7896b-a3dc-40be-8b75-6bd4e58085f1",
   "metadata": {},
   "outputs": [
    {
     "data": {
      "text/html": [
       "<div>\n",
       "<style scoped>\n",
       "    .dataframe tbody tr th:only-of-type {\n",
       "        vertical-align: middle;\n",
       "    }\n",
       "\n",
       "    .dataframe tbody tr th {\n",
       "        vertical-align: top;\n",
       "    }\n",
       "\n",
       "    .dataframe thead th {\n",
       "        text-align: right;\n",
       "    }\n",
       "</style>\n",
       "<table border=\"1\" class=\"dataframe\">\n",
       "  <thead>\n",
       "    <tr style=\"text-align: right;\">\n",
       "      <th></th>\n",
       "      <th>val_loss</th>\n",
       "      <th>val_acc</th>\n",
       "      <th>val_off_by_1</th>\n",
       "      <th>train_loss</th>\n",
       "      <th>train_acc</th>\n",
       "      <th>train_off_by_1</th>\n",
       "      <th>epoch_time_s</th>\n",
       "    </tr>\n",
       "  </thead>\n",
       "  <tbody>\n",
       "    <tr>\n",
       "      <th>0</th>\n",
       "      <td>0.155234</td>\n",
       "      <td>0.3324</td>\n",
       "      <td>0.6338</td>\n",
       "      <td>0.159725</td>\n",
       "      <td>0.247280</td>\n",
       "      <td>0.606280</td>\n",
       "      <td>36.728368</td>\n",
       "    </tr>\n",
       "    <tr>\n",
       "      <th>1</th>\n",
       "      <td>0.140926</td>\n",
       "      <td>0.3826</td>\n",
       "      <td>0.7366</td>\n",
       "      <td>0.148786</td>\n",
       "      <td>0.353080</td>\n",
       "      <td>0.675915</td>\n",
       "      <td>35.937290</td>\n",
       "    </tr>\n",
       "    <tr>\n",
       "      <th>2</th>\n",
       "      <td>0.136004</td>\n",
       "      <td>0.4052</td>\n",
       "      <td>0.7846</td>\n",
       "      <td>0.140348</td>\n",
       "      <td>0.393115</td>\n",
       "      <td>0.751755</td>\n",
       "      <td>35.539731</td>\n",
       "    </tr>\n",
       "    <tr>\n",
       "      <th>3</th>\n",
       "      <td>0.124700</td>\n",
       "      <td>0.4292</td>\n",
       "      <td>0.8188</td>\n",
       "      <td>0.132745</td>\n",
       "      <td>0.410070</td>\n",
       "      <td>0.794350</td>\n",
       "      <td>36.500147</td>\n",
       "    </tr>\n",
       "    <tr>\n",
       "      <th>4</th>\n",
       "      <td>0.120910</td>\n",
       "      <td>0.4522</td>\n",
       "      <td>0.8460</td>\n",
       "      <td>0.126959</td>\n",
       "      <td>0.428715</td>\n",
       "      <td>0.823995</td>\n",
       "      <td>38.044353</td>\n",
       "    </tr>\n",
       "    <tr>\n",
       "      <th>5</th>\n",
       "      <td>0.118011</td>\n",
       "      <td>0.4726</td>\n",
       "      <td>0.8672</td>\n",
       "      <td>0.123508</td>\n",
       "      <td>0.446015</td>\n",
       "      <td>0.844260</td>\n",
       "      <td>37.257808</td>\n",
       "    </tr>\n",
       "    <tr>\n",
       "      <th>6</th>\n",
       "      <td>0.116358</td>\n",
       "      <td>0.4828</td>\n",
       "      <td>0.8774</td>\n",
       "      <td>0.121112</td>\n",
       "      <td>0.460330</td>\n",
       "      <td>0.858280</td>\n",
       "      <td>36.972266</td>\n",
       "    </tr>\n",
       "    <tr>\n",
       "      <th>7</th>\n",
       "      <td>0.114795</td>\n",
       "      <td>0.4906</td>\n",
       "      <td>0.8852</td>\n",
       "      <td>0.119254</td>\n",
       "      <td>0.471885</td>\n",
       "      <td>0.868505</td>\n",
       "      <td>37.213167</td>\n",
       "    </tr>\n",
       "    <tr>\n",
       "      <th>8</th>\n",
       "      <td>0.113727</td>\n",
       "      <td>0.4912</td>\n",
       "      <td>0.8832</td>\n",
       "      <td>0.117958</td>\n",
       "      <td>0.480645</td>\n",
       "      <td>0.875275</td>\n",
       "      <td>38.300097</td>\n",
       "    </tr>\n",
       "    <tr>\n",
       "      <th>9</th>\n",
       "      <td>0.113041</td>\n",
       "      <td>0.4996</td>\n",
       "      <td>0.8906</td>\n",
       "      <td>0.116775</td>\n",
       "      <td>0.484040</td>\n",
       "      <td>0.880955</td>\n",
       "      <td>36.555225</td>\n",
       "    </tr>\n",
       "    <tr>\n",
       "      <th>10</th>\n",
       "      <td>0.112484</td>\n",
       "      <td>0.4982</td>\n",
       "      <td>0.8914</td>\n",
       "      <td>0.116013</td>\n",
       "      <td>0.489165</td>\n",
       "      <td>0.883375</td>\n",
       "      <td>36.930286</td>\n",
       "    </tr>\n",
       "    <tr>\n",
       "      <th>11</th>\n",
       "      <td>0.111753</td>\n",
       "      <td>0.4994</td>\n",
       "      <td>0.8930</td>\n",
       "      <td>0.115202</td>\n",
       "      <td>0.492985</td>\n",
       "      <td>0.886345</td>\n",
       "      <td>36.941323</td>\n",
       "    </tr>\n",
       "    <tr>\n",
       "      <th>12</th>\n",
       "      <td>0.111176</td>\n",
       "      <td>0.4988</td>\n",
       "      <td>0.8902</td>\n",
       "      <td>0.114611</td>\n",
       "      <td>0.495420</td>\n",
       "      <td>0.888830</td>\n",
       "      <td>39.157201</td>\n",
       "    </tr>\n",
       "    <tr>\n",
       "      <th>13</th>\n",
       "      <td>0.110673</td>\n",
       "      <td>0.5022</td>\n",
       "      <td>0.8968</td>\n",
       "      <td>0.113931</td>\n",
       "      <td>0.498720</td>\n",
       "      <td>0.891150</td>\n",
       "      <td>37.170491</td>\n",
       "    </tr>\n",
       "    <tr>\n",
       "      <th>14</th>\n",
       "      <td>0.110373</td>\n",
       "      <td>0.5006</td>\n",
       "      <td>0.8968</td>\n",
       "      <td>0.113421</td>\n",
       "      <td>0.501750</td>\n",
       "      <td>0.892695</td>\n",
       "      <td>35.491176</td>\n",
       "    </tr>\n",
       "    <tr>\n",
       "      <th>15</th>\n",
       "      <td>0.109945</td>\n",
       "      <td>0.5058</td>\n",
       "      <td>0.9036</td>\n",
       "      <td>0.112932</td>\n",
       "      <td>0.504475</td>\n",
       "      <td>0.893550</td>\n",
       "      <td>35.955752</td>\n",
       "    </tr>\n",
       "    <tr>\n",
       "      <th>16</th>\n",
       "      <td>0.109617</td>\n",
       "      <td>0.5042</td>\n",
       "      <td>0.8998</td>\n",
       "      <td>0.112680</td>\n",
       "      <td>0.504475</td>\n",
       "      <td>0.895095</td>\n",
       "      <td>40.377602</td>\n",
       "    </tr>\n",
       "    <tr>\n",
       "      <th>17</th>\n",
       "      <td>0.109354</td>\n",
       "      <td>0.5040</td>\n",
       "      <td>0.8998</td>\n",
       "      <td>0.112280</td>\n",
       "      <td>0.506195</td>\n",
       "      <td>0.896705</td>\n",
       "      <td>36.454074</td>\n",
       "    </tr>\n",
       "    <tr>\n",
       "      <th>18</th>\n",
       "      <td>0.109282</td>\n",
       "      <td>0.5108</td>\n",
       "      <td>0.9050</td>\n",
       "      <td>0.112010</td>\n",
       "      <td>0.507680</td>\n",
       "      <td>0.897230</td>\n",
       "      <td>38.021882</td>\n",
       "    </tr>\n",
       "    <tr>\n",
       "      <th>19</th>\n",
       "      <td>0.109073</td>\n",
       "      <td>0.5102</td>\n",
       "      <td>0.9032</td>\n",
       "      <td>0.111641</td>\n",
       "      <td>0.508495</td>\n",
       "      <td>0.897890</td>\n",
       "      <td>40.269112</td>\n",
       "    </tr>\n",
       "    <tr>\n",
       "      <th>20</th>\n",
       "      <td>0.108719</td>\n",
       "      <td>0.5114</td>\n",
       "      <td>0.9016</td>\n",
       "      <td>0.111344</td>\n",
       "      <td>0.511435</td>\n",
       "      <td>0.899765</td>\n",
       "      <td>40.956683</td>\n",
       "    </tr>\n",
       "    <tr>\n",
       "      <th>21</th>\n",
       "      <td>0.108676</td>\n",
       "      <td>0.5134</td>\n",
       "      <td>0.9034</td>\n",
       "      <td>0.111188</td>\n",
       "      <td>0.510980</td>\n",
       "      <td>0.900015</td>\n",
       "      <td>39.045827</td>\n",
       "    </tr>\n",
       "    <tr>\n",
       "      <th>22</th>\n",
       "      <td>0.108400</td>\n",
       "      <td>0.5136</td>\n",
       "      <td>0.9038</td>\n",
       "      <td>0.111044</td>\n",
       "      <td>0.511840</td>\n",
       "      <td>0.900095</td>\n",
       "      <td>37.311838</td>\n",
       "    </tr>\n",
       "    <tr>\n",
       "      <th>23</th>\n",
       "      <td>0.108150</td>\n",
       "      <td>0.5108</td>\n",
       "      <td>0.9044</td>\n",
       "      <td>0.110852</td>\n",
       "      <td>0.511935</td>\n",
       "      <td>0.901505</td>\n",
       "      <td>36.415279</td>\n",
       "    </tr>\n",
       "    <tr>\n",
       "      <th>24</th>\n",
       "      <td>0.107908</td>\n",
       "      <td>0.5150</td>\n",
       "      <td>0.9050</td>\n",
       "      <td>0.110567</td>\n",
       "      <td>0.514450</td>\n",
       "      <td>0.901550</td>\n",
       "      <td>39.270983</td>\n",
       "    </tr>\n",
       "    <tr>\n",
       "      <th>25</th>\n",
       "      <td>0.107963</td>\n",
       "      <td>0.5170</td>\n",
       "      <td>0.9084</td>\n",
       "      <td>0.110338</td>\n",
       "      <td>0.513825</td>\n",
       "      <td>0.902255</td>\n",
       "      <td>35.959591</td>\n",
       "    </tr>\n",
       "    <tr>\n",
       "      <th>26</th>\n",
       "      <td>0.107688</td>\n",
       "      <td>0.5124</td>\n",
       "      <td>0.9070</td>\n",
       "      <td>0.110334</td>\n",
       "      <td>0.516115</td>\n",
       "      <td>0.902730</td>\n",
       "      <td>36.996900</td>\n",
       "    </tr>\n",
       "    <tr>\n",
       "      <th>27</th>\n",
       "      <td>0.107946</td>\n",
       "      <td>0.5116</td>\n",
       "      <td>0.9074</td>\n",
       "      <td>0.110038</td>\n",
       "      <td>0.516345</td>\n",
       "      <td>0.903465</td>\n",
       "      <td>37.567154</td>\n",
       "    </tr>\n",
       "    <tr>\n",
       "      <th>28</th>\n",
       "      <td>0.107357</td>\n",
       "      <td>0.5166</td>\n",
       "      <td>0.9086</td>\n",
       "      <td>0.109785</td>\n",
       "      <td>0.517275</td>\n",
       "      <td>0.903990</td>\n",
       "      <td>36.545927</td>\n",
       "    </tr>\n",
       "    <tr>\n",
       "      <th>29</th>\n",
       "      <td>0.107280</td>\n",
       "      <td>0.5158</td>\n",
       "      <td>0.9088</td>\n",
       "      <td>0.109676</td>\n",
       "      <td>0.517965</td>\n",
       "      <td>0.904100</td>\n",
       "      <td>37.094387</td>\n",
       "    </tr>\n",
       "    <tr>\n",
       "      <th>30</th>\n",
       "      <td>0.107269</td>\n",
       "      <td>0.5198</td>\n",
       "      <td>0.9088</td>\n",
       "      <td>0.109605</td>\n",
       "      <td>0.518420</td>\n",
       "      <td>0.904700</td>\n",
       "      <td>35.595062</td>\n",
       "    </tr>\n",
       "    <tr>\n",
       "      <th>31</th>\n",
       "      <td>0.107039</td>\n",
       "      <td>0.5188</td>\n",
       "      <td>0.9106</td>\n",
       "      <td>0.109453</td>\n",
       "      <td>0.518425</td>\n",
       "      <td>0.905195</td>\n",
       "      <td>35.941163</td>\n",
       "    </tr>\n",
       "    <tr>\n",
       "      <th>32</th>\n",
       "      <td>0.107165</td>\n",
       "      <td>0.5140</td>\n",
       "      <td>0.9098</td>\n",
       "      <td>0.109273</td>\n",
       "      <td>0.520200</td>\n",
       "      <td>0.905590</td>\n",
       "      <td>35.674566</td>\n",
       "    </tr>\n",
       "    <tr>\n",
       "      <th>33</th>\n",
       "      <td>0.106888</td>\n",
       "      <td>0.5184</td>\n",
       "      <td>0.9082</td>\n",
       "      <td>0.109155</td>\n",
       "      <td>0.520125</td>\n",
       "      <td>0.905630</td>\n",
       "      <td>36.523575</td>\n",
       "    </tr>\n",
       "    <tr>\n",
       "      <th>34</th>\n",
       "      <td>0.106820</td>\n",
       "      <td>0.5194</td>\n",
       "      <td>0.9108</td>\n",
       "      <td>0.109091</td>\n",
       "      <td>0.521080</td>\n",
       "      <td>0.905930</td>\n",
       "      <td>36.606322</td>\n",
       "    </tr>\n",
       "    <tr>\n",
       "      <th>35</th>\n",
       "      <td>0.106591</td>\n",
       "      <td>0.5210</td>\n",
       "      <td>0.9106</td>\n",
       "      <td>0.108846</td>\n",
       "      <td>0.521495</td>\n",
       "      <td>0.907255</td>\n",
       "      <td>35.498212</td>\n",
       "    </tr>\n",
       "    <tr>\n",
       "      <th>36</th>\n",
       "      <td>0.106593</td>\n",
       "      <td>0.5150</td>\n",
       "      <td>0.9086</td>\n",
       "      <td>0.108700</td>\n",
       "      <td>0.522645</td>\n",
       "      <td>0.906910</td>\n",
       "      <td>35.695642</td>\n",
       "    </tr>\n",
       "    <tr>\n",
       "      <th>37</th>\n",
       "      <td>0.106405</td>\n",
       "      <td>0.5244</td>\n",
       "      <td>0.9136</td>\n",
       "      <td>0.108795</td>\n",
       "      <td>0.521830</td>\n",
       "      <td>0.907395</td>\n",
       "      <td>38.204956</td>\n",
       "    </tr>\n",
       "    <tr>\n",
       "      <th>38</th>\n",
       "      <td>0.106455</td>\n",
       "      <td>0.5198</td>\n",
       "      <td>0.9106</td>\n",
       "      <td>0.108662</td>\n",
       "      <td>0.522930</td>\n",
       "      <td>0.907515</td>\n",
       "      <td>36.740570</td>\n",
       "    </tr>\n",
       "    <tr>\n",
       "      <th>39</th>\n",
       "      <td>0.106381</td>\n",
       "      <td>0.5234</td>\n",
       "      <td>0.9154</td>\n",
       "      <td>0.108473</td>\n",
       "      <td>0.523085</td>\n",
       "      <td>0.908315</td>\n",
       "      <td>37.425872</td>\n",
       "    </tr>\n",
       "    <tr>\n",
       "      <th>40</th>\n",
       "      <td>0.106225</td>\n",
       "      <td>0.5188</td>\n",
       "      <td>0.9118</td>\n",
       "      <td>0.108339</td>\n",
       "      <td>0.523150</td>\n",
       "      <td>0.908660</td>\n",
       "      <td>36.653323</td>\n",
       "    </tr>\n",
       "    <tr>\n",
       "      <th>41</th>\n",
       "      <td>0.106094</td>\n",
       "      <td>0.5204</td>\n",
       "      <td>0.9112</td>\n",
       "      <td>0.108309</td>\n",
       "      <td>0.523820</td>\n",
       "      <td>0.909340</td>\n",
       "      <td>35.770870</td>\n",
       "    </tr>\n",
       "    <tr>\n",
       "      <th>42</th>\n",
       "      <td>0.106002</td>\n",
       "      <td>0.5192</td>\n",
       "      <td>0.9128</td>\n",
       "      <td>0.108163</td>\n",
       "      <td>0.524310</td>\n",
       "      <td>0.908875</td>\n",
       "      <td>36.069998</td>\n",
       "    </tr>\n",
       "    <tr>\n",
       "      <th>43</th>\n",
       "      <td>0.105870</td>\n",
       "      <td>0.5206</td>\n",
       "      <td>0.9124</td>\n",
       "      <td>0.108035</td>\n",
       "      <td>0.524800</td>\n",
       "      <td>0.908895</td>\n",
       "      <td>35.470124</td>\n",
       "    </tr>\n",
       "    <tr>\n",
       "      <th>44</th>\n",
       "      <td>0.106118</td>\n",
       "      <td>0.5218</td>\n",
       "      <td>0.9124</td>\n",
       "      <td>0.107983</td>\n",
       "      <td>0.524695</td>\n",
       "      <td>0.909945</td>\n",
       "      <td>35.298694</td>\n",
       "    </tr>\n",
       "    <tr>\n",
       "      <th>45</th>\n",
       "      <td>0.105783</td>\n",
       "      <td>0.5164</td>\n",
       "      <td>0.9102</td>\n",
       "      <td>0.107788</td>\n",
       "      <td>0.525770</td>\n",
       "      <td>0.909820</td>\n",
       "      <td>35.226756</td>\n",
       "    </tr>\n",
       "    <tr>\n",
       "      <th>46</th>\n",
       "      <td>0.105676</td>\n",
       "      <td>0.5218</td>\n",
       "      <td>0.9136</td>\n",
       "      <td>0.107811</td>\n",
       "      <td>0.525945</td>\n",
       "      <td>0.909450</td>\n",
       "      <td>35.279829</td>\n",
       "    </tr>\n",
       "    <tr>\n",
       "      <th>47</th>\n",
       "      <td>0.105899</td>\n",
       "      <td>0.5236</td>\n",
       "      <td>0.9168</td>\n",
       "      <td>0.107712</td>\n",
       "      <td>0.526575</td>\n",
       "      <td>0.910275</td>\n",
       "      <td>35.457951</td>\n",
       "    </tr>\n",
       "    <tr>\n",
       "      <th>48</th>\n",
       "      <td>0.105632</td>\n",
       "      <td>0.5250</td>\n",
       "      <td>0.9160</td>\n",
       "      <td>0.107665</td>\n",
       "      <td>0.526390</td>\n",
       "      <td>0.911020</td>\n",
       "      <td>37.537892</td>\n",
       "    </tr>\n",
       "    <tr>\n",
       "      <th>49</th>\n",
       "      <td>0.105619</td>\n",
       "      <td>0.5298</td>\n",
       "      <td>0.9128</td>\n",
       "      <td>0.107519</td>\n",
       "      <td>0.526565</td>\n",
       "      <td>0.910560</td>\n",
       "      <td>37.248898</td>\n",
       "    </tr>\n",
       "  </tbody>\n",
       "</table>\n",
       "</div>"
      ],
      "text/plain": [
       "    val_loss  val_acc  val_off_by_1  train_loss  train_acc  train_off_by_1  \\\n",
       "0   0.155234   0.3324        0.6338    0.159725   0.247280        0.606280   \n",
       "1   0.140926   0.3826        0.7366    0.148786   0.353080        0.675915   \n",
       "2   0.136004   0.4052        0.7846    0.140348   0.393115        0.751755   \n",
       "3   0.124700   0.4292        0.8188    0.132745   0.410070        0.794350   \n",
       "4   0.120910   0.4522        0.8460    0.126959   0.428715        0.823995   \n",
       "5   0.118011   0.4726        0.8672    0.123508   0.446015        0.844260   \n",
       "6   0.116358   0.4828        0.8774    0.121112   0.460330        0.858280   \n",
       "7   0.114795   0.4906        0.8852    0.119254   0.471885        0.868505   \n",
       "8   0.113727   0.4912        0.8832    0.117958   0.480645        0.875275   \n",
       "9   0.113041   0.4996        0.8906    0.116775   0.484040        0.880955   \n",
       "10  0.112484   0.4982        0.8914    0.116013   0.489165        0.883375   \n",
       "11  0.111753   0.4994        0.8930    0.115202   0.492985        0.886345   \n",
       "12  0.111176   0.4988        0.8902    0.114611   0.495420        0.888830   \n",
       "13  0.110673   0.5022        0.8968    0.113931   0.498720        0.891150   \n",
       "14  0.110373   0.5006        0.8968    0.113421   0.501750        0.892695   \n",
       "15  0.109945   0.5058        0.9036    0.112932   0.504475        0.893550   \n",
       "16  0.109617   0.5042        0.8998    0.112680   0.504475        0.895095   \n",
       "17  0.109354   0.5040        0.8998    0.112280   0.506195        0.896705   \n",
       "18  0.109282   0.5108        0.9050    0.112010   0.507680        0.897230   \n",
       "19  0.109073   0.5102        0.9032    0.111641   0.508495        0.897890   \n",
       "20  0.108719   0.5114        0.9016    0.111344   0.511435        0.899765   \n",
       "21  0.108676   0.5134        0.9034    0.111188   0.510980        0.900015   \n",
       "22  0.108400   0.5136        0.9038    0.111044   0.511840        0.900095   \n",
       "23  0.108150   0.5108        0.9044    0.110852   0.511935        0.901505   \n",
       "24  0.107908   0.5150        0.9050    0.110567   0.514450        0.901550   \n",
       "25  0.107963   0.5170        0.9084    0.110338   0.513825        0.902255   \n",
       "26  0.107688   0.5124        0.9070    0.110334   0.516115        0.902730   \n",
       "27  0.107946   0.5116        0.9074    0.110038   0.516345        0.903465   \n",
       "28  0.107357   0.5166        0.9086    0.109785   0.517275        0.903990   \n",
       "29  0.107280   0.5158        0.9088    0.109676   0.517965        0.904100   \n",
       "30  0.107269   0.5198        0.9088    0.109605   0.518420        0.904700   \n",
       "31  0.107039   0.5188        0.9106    0.109453   0.518425        0.905195   \n",
       "32  0.107165   0.5140        0.9098    0.109273   0.520200        0.905590   \n",
       "33  0.106888   0.5184        0.9082    0.109155   0.520125        0.905630   \n",
       "34  0.106820   0.5194        0.9108    0.109091   0.521080        0.905930   \n",
       "35  0.106591   0.5210        0.9106    0.108846   0.521495        0.907255   \n",
       "36  0.106593   0.5150        0.9086    0.108700   0.522645        0.906910   \n",
       "37  0.106405   0.5244        0.9136    0.108795   0.521830        0.907395   \n",
       "38  0.106455   0.5198        0.9106    0.108662   0.522930        0.907515   \n",
       "39  0.106381   0.5234        0.9154    0.108473   0.523085        0.908315   \n",
       "40  0.106225   0.5188        0.9118    0.108339   0.523150        0.908660   \n",
       "41  0.106094   0.5204        0.9112    0.108309   0.523820        0.909340   \n",
       "42  0.106002   0.5192        0.9128    0.108163   0.524310        0.908875   \n",
       "43  0.105870   0.5206        0.9124    0.108035   0.524800        0.908895   \n",
       "44  0.106118   0.5218        0.9124    0.107983   0.524695        0.909945   \n",
       "45  0.105783   0.5164        0.9102    0.107788   0.525770        0.909820   \n",
       "46  0.105676   0.5218        0.9136    0.107811   0.525945        0.909450   \n",
       "47  0.105899   0.5236        0.9168    0.107712   0.526575        0.910275   \n",
       "48  0.105632   0.5250        0.9160    0.107665   0.526390        0.911020   \n",
       "49  0.105619   0.5298        0.9128    0.107519   0.526565        0.910560   \n",
       "\n",
       "    epoch_time_s  \n",
       "0      36.728368  \n",
       "1      35.937290  \n",
       "2      35.539731  \n",
       "3      36.500147  \n",
       "4      38.044353  \n",
       "5      37.257808  \n",
       "6      36.972266  \n",
       "7      37.213167  \n",
       "8      38.300097  \n",
       "9      36.555225  \n",
       "10     36.930286  \n",
       "11     36.941323  \n",
       "12     39.157201  \n",
       "13     37.170491  \n",
       "14     35.491176  \n",
       "15     35.955752  \n",
       "16     40.377602  \n",
       "17     36.454074  \n",
       "18     38.021882  \n",
       "19     40.269112  \n",
       "20     40.956683  \n",
       "21     39.045827  \n",
       "22     37.311838  \n",
       "23     36.415279  \n",
       "24     39.270983  \n",
       "25     35.959591  \n",
       "26     36.996900  \n",
       "27     37.567154  \n",
       "28     36.545927  \n",
       "29     37.094387  \n",
       "30     35.595062  \n",
       "31     35.941163  \n",
       "32     35.674566  \n",
       "33     36.523575  \n",
       "34     36.606322  \n",
       "35     35.498212  \n",
       "36     35.695642  \n",
       "37     38.204956  \n",
       "38     36.740570  \n",
       "39     37.425872  \n",
       "40     36.653323  \n",
       "41     35.770870  \n",
       "42     36.069998  \n",
       "43     35.470124  \n",
       "44     35.298694  \n",
       "45     35.226756  \n",
       "46     35.279829  \n",
       "47     35.457951  \n",
       "48     37.537892  \n",
       "49     37.248898  "
      ]
     },
     "execution_count": 25,
     "metadata": {},
     "output_type": "execute_result"
    }
   ],
   "source": [
    "df = pd.read_csv(\"./../train_csv_2022-11-24 15:55:47.347598\", index_col=0)\n",
    "df"
   ]
  },
  {
   "cell_type": "code",
   "execution_count": 26,
   "id": "64a6d787-a25d-4adf-97be-d7cf91cc8f03",
   "metadata": {},
   "outputs": [
    {
     "data": {
      "application/vnd.plotly.v1+json": {
       "config": {
        "plotlyServerURL": "https://plot.ly"
       },
       "data": [
        {
         "hovertemplate": "variable=val_loss<br>index=%{x}<br>value=%{y}<extra></extra>",
         "legendgroup": "val_loss",
         "line": {
          "color": "#636efa",
          "dash": "solid"
         },
         "marker": {
          "symbol": "circle"
         },
         "mode": "lines",
         "name": "val_loss",
         "orientation": "v",
         "showlegend": true,
         "type": "scatter",
         "x": [
          0,
          1,
          2,
          3,
          4,
          5,
          6,
          7,
          8,
          9,
          10,
          11,
          12,
          13,
          14,
          15,
          16,
          17,
          18,
          19,
          20,
          21,
          22,
          23,
          24,
          25,
          26,
          27,
          28,
          29,
          30,
          31,
          32,
          33,
          34,
          35,
          36,
          37,
          38,
          39,
          40,
          41,
          42,
          43,
          44,
          45,
          46,
          47,
          48,
          49
         ],
         "xaxis": "x",
         "y": [
          0.1552337378025055,
          0.1409257625460624,
          0.1360037978887558,
          0.1246996743917465,
          0.1209103204369545,
          0.1180106041789054,
          0.1163583550214767,
          0.1147951025605201,
          0.1137265381932258,
          0.1130412688732147,
          0.1124836843848228,
          0.1117527660131454,
          0.1111763022005558,
          0.1106733648538589,
          0.1103731633543968,
          0.1099446096360683,
          0.1096166675567626,
          0.1093539993166923,
          0.1092816880464553,
          0.1090727064311504,
          0.1087185363411903,
          0.1086760569870472,
          0.1084003225386142,
          0.108149553912878,
          0.1079080931961536,
          0.107963072836399,
          0.1076880986273288,
          0.107946152883768,
          0.1073565602958202,
          0.1072802740752697,
          0.1072686312139034,
          0.1070388055562973,
          0.1071649351656437,
          0.1068882470667362,
          0.1068203800499439,
          0.1065911665320396,
          0.1065933386683464,
          0.1064051554262638,
          0.1064550686180591,
          0.1063806763112545,
          0.1062245747566223,
          0.1060942080199718,
          0.1060023910701274,
          0.1058696605026722,
          0.1061178428590297,
          0.1057827345311641,
          0.1056755487143993,
          0.105898915374279,
          0.1056315886139869,
          0.1056187786996364
         ],
         "yaxis": "y"
        },
        {
         "hovertemplate": "variable=val_acc<br>index=%{x}<br>value=%{y}<extra></extra>",
         "legendgroup": "val_acc",
         "line": {
          "color": "#EF553B",
          "dash": "solid"
         },
         "marker": {
          "symbol": "circle"
         },
         "mode": "lines",
         "name": "val_acc",
         "orientation": "v",
         "showlegend": true,
         "type": "scatter",
         "x": [
          0,
          1,
          2,
          3,
          4,
          5,
          6,
          7,
          8,
          9,
          10,
          11,
          12,
          13,
          14,
          15,
          16,
          17,
          18,
          19,
          20,
          21,
          22,
          23,
          24,
          25,
          26,
          27,
          28,
          29,
          30,
          31,
          32,
          33,
          34,
          35,
          36,
          37,
          38,
          39,
          40,
          41,
          42,
          43,
          44,
          45,
          46,
          47,
          48,
          49
         ],
         "xaxis": "x",
         "y": [
          0.3324,
          0.3826,
          0.4052,
          0.4292,
          0.4522,
          0.4726,
          0.4828,
          0.4906,
          0.4912,
          0.4996,
          0.4982,
          0.4994,
          0.4988,
          0.5022,
          0.5006,
          0.5058,
          0.5042,
          0.504,
          0.5108,
          0.5102,
          0.5114,
          0.5134,
          0.5136,
          0.5108,
          0.515,
          0.517,
          0.5124,
          0.5116,
          0.5166,
          0.5158,
          0.5198,
          0.5188,
          0.514,
          0.5184,
          0.5194,
          0.521,
          0.515,
          0.5244,
          0.5198,
          0.5234,
          0.5188,
          0.5204,
          0.5192,
          0.5206,
          0.5218,
          0.5164,
          0.5218,
          0.5236,
          0.525,
          0.5298
         ],
         "yaxis": "y"
        },
        {
         "hovertemplate": "variable=val_off_by_1<br>index=%{x}<br>value=%{y}<extra></extra>",
         "legendgroup": "val_off_by_1",
         "line": {
          "color": "#00cc96",
          "dash": "solid"
         },
         "marker": {
          "symbol": "circle"
         },
         "mode": "lines",
         "name": "val_off_by_1",
         "orientation": "v",
         "showlegend": true,
         "type": "scatter",
         "x": [
          0,
          1,
          2,
          3,
          4,
          5,
          6,
          7,
          8,
          9,
          10,
          11,
          12,
          13,
          14,
          15,
          16,
          17,
          18,
          19,
          20,
          21,
          22,
          23,
          24,
          25,
          26,
          27,
          28,
          29,
          30,
          31,
          32,
          33,
          34,
          35,
          36,
          37,
          38,
          39,
          40,
          41,
          42,
          43,
          44,
          45,
          46,
          47,
          48,
          49
         ],
         "xaxis": "x",
         "y": [
          0.6338,
          0.7366,
          0.7846,
          0.8188,
          0.846,
          0.8672,
          0.8774,
          0.8852,
          0.8832,
          0.8906,
          0.8914,
          0.893,
          0.8902,
          0.8968,
          0.8968,
          0.9036,
          0.8998,
          0.8998,
          0.905,
          0.9032,
          0.9016,
          0.9034,
          0.9038,
          0.9044,
          0.905,
          0.9084,
          0.907,
          0.9074,
          0.9086,
          0.9088,
          0.9088,
          0.9106,
          0.9098,
          0.9082,
          0.9108,
          0.9106,
          0.9086,
          0.9136,
          0.9106,
          0.9154,
          0.9118,
          0.9112,
          0.9128,
          0.9124,
          0.9124,
          0.9102,
          0.9136,
          0.9168,
          0.916,
          0.9128
         ],
         "yaxis": "y"
        }
       ],
       "layout": {
        "autosize": true,
        "legend": {
         "title": {
          "text": "variable"
         },
         "tracegroupgap": 0
        },
        "margin": {
         "t": 60
        },
        "template": {
         "data": {
          "bar": [
           {
            "error_x": {
             "color": "#2a3f5f"
            },
            "error_y": {
             "color": "#2a3f5f"
            },
            "marker": {
             "line": {
              "color": "#E5ECF6",
              "width": 0.5
             },
             "pattern": {
              "fillmode": "overlay",
              "size": 10,
              "solidity": 0.2
             }
            },
            "type": "bar"
           }
          ],
          "barpolar": [
           {
            "marker": {
             "line": {
              "color": "#E5ECF6",
              "width": 0.5
             },
             "pattern": {
              "fillmode": "overlay",
              "size": 10,
              "solidity": 0.2
             }
            },
            "type": "barpolar"
           }
          ],
          "carpet": [
           {
            "aaxis": {
             "endlinecolor": "#2a3f5f",
             "gridcolor": "white",
             "linecolor": "white",
             "minorgridcolor": "white",
             "startlinecolor": "#2a3f5f"
            },
            "baxis": {
             "endlinecolor": "#2a3f5f",
             "gridcolor": "white",
             "linecolor": "white",
             "minorgridcolor": "white",
             "startlinecolor": "#2a3f5f"
            },
            "type": "carpet"
           }
          ],
          "choropleth": [
           {
            "colorbar": {
             "outlinewidth": 0,
             "ticks": ""
            },
            "type": "choropleth"
           }
          ],
          "contour": [
           {
            "colorbar": {
             "outlinewidth": 0,
             "ticks": ""
            },
            "colorscale": [
             [
              0,
              "#0d0887"
             ],
             [
              0.1111111111111111,
              "#46039f"
             ],
             [
              0.2222222222222222,
              "#7201a8"
             ],
             [
              0.3333333333333333,
              "#9c179e"
             ],
             [
              0.4444444444444444,
              "#bd3786"
             ],
             [
              0.5555555555555556,
              "#d8576b"
             ],
             [
              0.6666666666666666,
              "#ed7953"
             ],
             [
              0.7777777777777778,
              "#fb9f3a"
             ],
             [
              0.8888888888888888,
              "#fdca26"
             ],
             [
              1,
              "#f0f921"
             ]
            ],
            "type": "contour"
           }
          ],
          "contourcarpet": [
           {
            "colorbar": {
             "outlinewidth": 0,
             "ticks": ""
            },
            "type": "contourcarpet"
           }
          ],
          "heatmap": [
           {
            "colorbar": {
             "outlinewidth": 0,
             "ticks": ""
            },
            "colorscale": [
             [
              0,
              "#0d0887"
             ],
             [
              0.1111111111111111,
              "#46039f"
             ],
             [
              0.2222222222222222,
              "#7201a8"
             ],
             [
              0.3333333333333333,
              "#9c179e"
             ],
             [
              0.4444444444444444,
              "#bd3786"
             ],
             [
              0.5555555555555556,
              "#d8576b"
             ],
             [
              0.6666666666666666,
              "#ed7953"
             ],
             [
              0.7777777777777778,
              "#fb9f3a"
             ],
             [
              0.8888888888888888,
              "#fdca26"
             ],
             [
              1,
              "#f0f921"
             ]
            ],
            "type": "heatmap"
           }
          ],
          "heatmapgl": [
           {
            "colorbar": {
             "outlinewidth": 0,
             "ticks": ""
            },
            "colorscale": [
             [
              0,
              "#0d0887"
             ],
             [
              0.1111111111111111,
              "#46039f"
             ],
             [
              0.2222222222222222,
              "#7201a8"
             ],
             [
              0.3333333333333333,
              "#9c179e"
             ],
             [
              0.4444444444444444,
              "#bd3786"
             ],
             [
              0.5555555555555556,
              "#d8576b"
             ],
             [
              0.6666666666666666,
              "#ed7953"
             ],
             [
              0.7777777777777778,
              "#fb9f3a"
             ],
             [
              0.8888888888888888,
              "#fdca26"
             ],
             [
              1,
              "#f0f921"
             ]
            ],
            "type": "heatmapgl"
           }
          ],
          "histogram": [
           {
            "marker": {
             "pattern": {
              "fillmode": "overlay",
              "size": 10,
              "solidity": 0.2
             }
            },
            "type": "histogram"
           }
          ],
          "histogram2d": [
           {
            "colorbar": {
             "outlinewidth": 0,
             "ticks": ""
            },
            "colorscale": [
             [
              0,
              "#0d0887"
             ],
             [
              0.1111111111111111,
              "#46039f"
             ],
             [
              0.2222222222222222,
              "#7201a8"
             ],
             [
              0.3333333333333333,
              "#9c179e"
             ],
             [
              0.4444444444444444,
              "#bd3786"
             ],
             [
              0.5555555555555556,
              "#d8576b"
             ],
             [
              0.6666666666666666,
              "#ed7953"
             ],
             [
              0.7777777777777778,
              "#fb9f3a"
             ],
             [
              0.8888888888888888,
              "#fdca26"
             ],
             [
              1,
              "#f0f921"
             ]
            ],
            "type": "histogram2d"
           }
          ],
          "histogram2dcontour": [
           {
            "colorbar": {
             "outlinewidth": 0,
             "ticks": ""
            },
            "colorscale": [
             [
              0,
              "#0d0887"
             ],
             [
              0.1111111111111111,
              "#46039f"
             ],
             [
              0.2222222222222222,
              "#7201a8"
             ],
             [
              0.3333333333333333,
              "#9c179e"
             ],
             [
              0.4444444444444444,
              "#bd3786"
             ],
             [
              0.5555555555555556,
              "#d8576b"
             ],
             [
              0.6666666666666666,
              "#ed7953"
             ],
             [
              0.7777777777777778,
              "#fb9f3a"
             ],
             [
              0.8888888888888888,
              "#fdca26"
             ],
             [
              1,
              "#f0f921"
             ]
            ],
            "type": "histogram2dcontour"
           }
          ],
          "mesh3d": [
           {
            "colorbar": {
             "outlinewidth": 0,
             "ticks": ""
            },
            "type": "mesh3d"
           }
          ],
          "parcoords": [
           {
            "line": {
             "colorbar": {
              "outlinewidth": 0,
              "ticks": ""
             }
            },
            "type": "parcoords"
           }
          ],
          "pie": [
           {
            "automargin": true,
            "type": "pie"
           }
          ],
          "scatter": [
           {
            "fillpattern": {
             "fillmode": "overlay",
             "size": 10,
             "solidity": 0.2
            },
            "type": "scatter"
           }
          ],
          "scatter3d": [
           {
            "line": {
             "colorbar": {
              "outlinewidth": 0,
              "ticks": ""
             }
            },
            "marker": {
             "colorbar": {
              "outlinewidth": 0,
              "ticks": ""
             }
            },
            "type": "scatter3d"
           }
          ],
          "scattercarpet": [
           {
            "marker": {
             "colorbar": {
              "outlinewidth": 0,
              "ticks": ""
             }
            },
            "type": "scattercarpet"
           }
          ],
          "scattergeo": [
           {
            "marker": {
             "colorbar": {
              "outlinewidth": 0,
              "ticks": ""
             }
            },
            "type": "scattergeo"
           }
          ],
          "scattergl": [
           {
            "marker": {
             "colorbar": {
              "outlinewidth": 0,
              "ticks": ""
             }
            },
            "type": "scattergl"
           }
          ],
          "scattermapbox": [
           {
            "marker": {
             "colorbar": {
              "outlinewidth": 0,
              "ticks": ""
             }
            },
            "type": "scattermapbox"
           }
          ],
          "scatterpolar": [
           {
            "marker": {
             "colorbar": {
              "outlinewidth": 0,
              "ticks": ""
             }
            },
            "type": "scatterpolar"
           }
          ],
          "scatterpolargl": [
           {
            "marker": {
             "colorbar": {
              "outlinewidth": 0,
              "ticks": ""
             }
            },
            "type": "scatterpolargl"
           }
          ],
          "scatterternary": [
           {
            "marker": {
             "colorbar": {
              "outlinewidth": 0,
              "ticks": ""
             }
            },
            "type": "scatterternary"
           }
          ],
          "surface": [
           {
            "colorbar": {
             "outlinewidth": 0,
             "ticks": ""
            },
            "colorscale": [
             [
              0,
              "#0d0887"
             ],
             [
              0.1111111111111111,
              "#46039f"
             ],
             [
              0.2222222222222222,
              "#7201a8"
             ],
             [
              0.3333333333333333,
              "#9c179e"
             ],
             [
              0.4444444444444444,
              "#bd3786"
             ],
             [
              0.5555555555555556,
              "#d8576b"
             ],
             [
              0.6666666666666666,
              "#ed7953"
             ],
             [
              0.7777777777777778,
              "#fb9f3a"
             ],
             [
              0.8888888888888888,
              "#fdca26"
             ],
             [
              1,
              "#f0f921"
             ]
            ],
            "type": "surface"
           }
          ],
          "table": [
           {
            "cells": {
             "fill": {
              "color": "#EBF0F8"
             },
             "line": {
              "color": "white"
             }
            },
            "header": {
             "fill": {
              "color": "#C8D4E3"
             },
             "line": {
              "color": "white"
             }
            },
            "type": "table"
           }
          ]
         },
         "layout": {
          "annotationdefaults": {
           "arrowcolor": "#2a3f5f",
           "arrowhead": 0,
           "arrowwidth": 1
          },
          "autotypenumbers": "strict",
          "coloraxis": {
           "colorbar": {
            "outlinewidth": 0,
            "ticks": ""
           }
          },
          "colorscale": {
           "diverging": [
            [
             0,
             "#8e0152"
            ],
            [
             0.1,
             "#c51b7d"
            ],
            [
             0.2,
             "#de77ae"
            ],
            [
             0.3,
             "#f1b6da"
            ],
            [
             0.4,
             "#fde0ef"
            ],
            [
             0.5,
             "#f7f7f7"
            ],
            [
             0.6,
             "#e6f5d0"
            ],
            [
             0.7,
             "#b8e186"
            ],
            [
             0.8,
             "#7fbc41"
            ],
            [
             0.9,
             "#4d9221"
            ],
            [
             1,
             "#276419"
            ]
           ],
           "sequential": [
            [
             0,
             "#0d0887"
            ],
            [
             0.1111111111111111,
             "#46039f"
            ],
            [
             0.2222222222222222,
             "#7201a8"
            ],
            [
             0.3333333333333333,
             "#9c179e"
            ],
            [
             0.4444444444444444,
             "#bd3786"
            ],
            [
             0.5555555555555556,
             "#d8576b"
            ],
            [
             0.6666666666666666,
             "#ed7953"
            ],
            [
             0.7777777777777778,
             "#fb9f3a"
            ],
            [
             0.8888888888888888,
             "#fdca26"
            ],
            [
             1,
             "#f0f921"
            ]
           ],
           "sequentialminus": [
            [
             0,
             "#0d0887"
            ],
            [
             0.1111111111111111,
             "#46039f"
            ],
            [
             0.2222222222222222,
             "#7201a8"
            ],
            [
             0.3333333333333333,
             "#9c179e"
            ],
            [
             0.4444444444444444,
             "#bd3786"
            ],
            [
             0.5555555555555556,
             "#d8576b"
            ],
            [
             0.6666666666666666,
             "#ed7953"
            ],
            [
             0.7777777777777778,
             "#fb9f3a"
            ],
            [
             0.8888888888888888,
             "#fdca26"
            ],
            [
             1,
             "#f0f921"
            ]
           ]
          },
          "colorway": [
           "#636efa",
           "#EF553B",
           "#00cc96",
           "#ab63fa",
           "#FFA15A",
           "#19d3f3",
           "#FF6692",
           "#B6E880",
           "#FF97FF",
           "#FECB52"
          ],
          "font": {
           "color": "#2a3f5f"
          },
          "geo": {
           "bgcolor": "white",
           "lakecolor": "white",
           "landcolor": "#E5ECF6",
           "showlakes": true,
           "showland": true,
           "subunitcolor": "white"
          },
          "hoverlabel": {
           "align": "left"
          },
          "hovermode": "closest",
          "mapbox": {
           "style": "light"
          },
          "paper_bgcolor": "white",
          "plot_bgcolor": "#E5ECF6",
          "polar": {
           "angularaxis": {
            "gridcolor": "white",
            "linecolor": "white",
            "ticks": ""
           },
           "bgcolor": "#E5ECF6",
           "radialaxis": {
            "gridcolor": "white",
            "linecolor": "white",
            "ticks": ""
           }
          },
          "scene": {
           "xaxis": {
            "backgroundcolor": "#E5ECF6",
            "gridcolor": "white",
            "gridwidth": 2,
            "linecolor": "white",
            "showbackground": true,
            "ticks": "",
            "zerolinecolor": "white"
           },
           "yaxis": {
            "backgroundcolor": "#E5ECF6",
            "gridcolor": "white",
            "gridwidth": 2,
            "linecolor": "white",
            "showbackground": true,
            "ticks": "",
            "zerolinecolor": "white"
           },
           "zaxis": {
            "backgroundcolor": "#E5ECF6",
            "gridcolor": "white",
            "gridwidth": 2,
            "linecolor": "white",
            "showbackground": true,
            "ticks": "",
            "zerolinecolor": "white"
           }
          },
          "shapedefaults": {
           "line": {
            "color": "#2a3f5f"
           }
          },
          "ternary": {
           "aaxis": {
            "gridcolor": "white",
            "linecolor": "white",
            "ticks": ""
           },
           "baxis": {
            "gridcolor": "white",
            "linecolor": "white",
            "ticks": ""
           },
           "bgcolor": "#E5ECF6",
           "caxis": {
            "gridcolor": "white",
            "linecolor": "white",
            "ticks": ""
           }
          },
          "title": {
           "x": 0.05
          },
          "xaxis": {
           "automargin": true,
           "gridcolor": "white",
           "linecolor": "white",
           "ticks": "",
           "title": {
            "standoff": 15
           },
           "zerolinecolor": "white",
           "zerolinewidth": 2
          },
          "yaxis": {
           "automargin": true,
           "gridcolor": "white",
           "linecolor": "white",
           "ticks": "",
           "title": {
            "standoff": 15
           },
           "zerolinecolor": "white",
           "zerolinewidth": 2
          }
         }
        },
        "xaxis": {
         "anchor": "y",
         "autorange": true,
         "domain": [
          0,
          1
         ],
         "range": [
          0,
          49
         ],
         "title": {
          "text": "index"
         },
         "type": "linear"
        },
        "yaxis": {
         "anchor": "x",
         "autorange": true,
         "domain": [
          0,
          1
         ],
         "range": [
          0.06055315529406065,
          0.9618656234055757
         ],
         "title": {
          "text": "value"
         },
         "type": "linear"
        }
       }
      },
      "image/png": "[encoded data removed]",
      "text/html": [
       "<div>                            <div id=\"27ca3a0c-cf87-4040-b69f-c855f019c65c\" class=\"plotly-graph-div\" style=\"height:525px; width:100%;\"></div>            <script type=\"text/javascript\">                require([\"plotly\"], function(Plotly) {                    window.PLOTLYENV=window.PLOTLYENV || {};                                    if (document.getElementById(\"27ca3a0c-cf87-4040-b69f-c855f019c65c\")) {                    Plotly.newPlot(                        \"27ca3a0c-cf87-4040-b69f-c855f019c65c\",                        [{\"hovertemplate\":\"variable=val_loss<br>index=%{x}<br>value=%{y}<extra></extra>\",\"legendgroup\":\"val_loss\",\"line\":{\"color\":\"#636efa\",\"dash\":\"solid\"},\"marker\":{\"symbol\":\"circle\"},\"mode\":\"lines\",\"name\":\"val_loss\",\"orientation\":\"v\",\"showlegend\":true,\"x\":[0,1,2,3,4,5,6,7,8,9,10,11,12,13,14,15,16,17,18,19,20,21,22,23,24,25,26,27,28,29,30,31,32,33,34,35,36,37,38,39,40,41,42,43,44,45,46,47,48,49],\"xaxis\":\"x\",\"y\":[0.1552337378025055,0.1409257625460624,0.1360037978887558,0.1246996743917465,0.1209103204369545,0.1180106041789054,0.1163583550214767,0.1147951025605201,0.1137265381932258,0.1130412688732147,0.1124836843848228,0.1117527660131454,0.1111763022005558,0.1106733648538589,0.1103731633543968,0.1099446096360683,0.1096166675567626,0.1093539993166923,0.1092816880464553,0.1090727064311504,0.1087185363411903,0.1086760569870472,0.1084003225386142,0.108149553912878,0.1079080931961536,0.107963072836399,0.1076880986273288,0.107946152883768,0.1073565602958202,0.1072802740752697,0.1072686312139034,0.1070388055562973,0.1071649351656437,0.1068882470667362,0.1068203800499439,0.1065911665320396,0.1065933386683464,0.1064051554262638,0.1064550686180591,0.1063806763112545,0.1062245747566223,0.1060942080199718,0.1060023910701274,0.1058696605026722,0.1061178428590297,0.1057827345311641,0.1056755487143993,0.105898915374279,0.1056315886139869,0.1056187786996364],\"yaxis\":\"y\",\"type\":\"scatter\"},{\"hovertemplate\":\"variable=val_acc<br>index=%{x}<br>value=%{y}<extra></extra>\",\"legendgroup\":\"val_acc\",\"line\":{\"color\":\"#EF553B\",\"dash\":\"solid\"},\"marker\":{\"symbol\":\"circle\"},\"mode\":\"lines\",\"name\":\"val_acc\",\"orientation\":\"v\",\"showlegend\":true,\"x\":[0,1,2,3,4,5,6,7,8,9,10,11,12,13,14,15,16,17,18,19,20,21,22,23,24,25,26,27,28,29,30,31,32,33,34,35,36,37,38,39,40,41,42,43,44,45,46,47,48,49],\"xaxis\":\"x\",\"y\":[0.3324,0.3826,0.4052,0.4292,0.4522,0.4726,0.4828,0.4906,0.4912,0.4996,0.4982,0.4994,0.4988,0.5022,0.5006,0.5058,0.5042,0.504,0.5108,0.5102,0.5114,0.5134,0.5136,0.5108,0.515,0.517,0.5124,0.5116,0.5166,0.5158,0.5198,0.5188,0.514,0.5184,0.5194,0.521,0.515,0.5244,0.5198,0.5234,0.5188,0.5204,0.5192,0.5206,0.5218,0.5164,0.5218,0.5236,0.525,0.5298],\"yaxis\":\"y\",\"type\":\"scatter\"},{\"hovertemplate\":\"variable=val_off_by_1<br>index=%{x}<br>value=%{y}<extra></extra>\",\"legendgroup\":\"val_off_by_1\",\"line\":{\"color\":\"#00cc96\",\"dash\":\"solid\"},\"marker\":{\"symbol\":\"circle\"},\"mode\":\"lines\",\"name\":\"val_off_by_1\",\"orientation\":\"v\",\"showlegend\":true,\"x\":[0,1,2,3,4,5,6,7,8,9,10,11,12,13,14,15,16,17,18,19,20,21,22,23,24,25,26,27,28,29,30,31,32,33,34,35,36,37,38,39,40,41,42,43,44,45,46,47,48,49],\"xaxis\":\"x\",\"y\":[0.6338,0.7366,0.7846,0.8188,0.846,0.8672,0.8774,0.8852,0.8832,0.8906,0.8914,0.893,0.8902,0.8968,0.8968,0.9036,0.8998,0.8998,0.905,0.9032,0.9016,0.9034,0.9038,0.9044,0.905,0.9084,0.907,0.9074,0.9086,0.9088,0.9088,0.9106,0.9098,0.9082,0.9108,0.9106,0.9086,0.9136,0.9106,0.9154,0.9118,0.9112,0.9128,0.9124,0.9124,0.9102,0.9136,0.9168,0.916,0.9128],\"yaxis\":\"y\",\"type\":\"scatter\"}],                        {\"template\":{\"data\":{\"histogram2dcontour\":[{\"type\":\"histogram2dcontour\",\"colorbar\":{\"outlinewidth\":0,\"ticks\":\"\"},\"colorscale\":[[0.0,\"#0d0887\"],[0.1111111111111111,\"#46039f\"],[0.2222222222222222,\"#7201a8\"],[0.3333333333333333,\"#9c179e\"],[0.4444444444444444,\"#bd3786\"],[0.5555555555555556,\"#d8576b\"],[0.6666666666666666,\"#ed7953\"],[0.7777777777777778,\"#fb9f3a\"],[0.8888888888888888,\"#fdca26\"],[1.0,\"#f0f921\"]]}],\"choropleth\":[{\"type\":\"choropleth\",\"colorbar\":{\"outlinewidth\":0,\"ticks\":\"\"}}],\"histogram2d\":[{\"type\":\"histogram2d\",\"colorbar\":{\"outlinewidth\":0,\"ticks\":\"\"},\"colorscale\":[[0.0,\"#0d0887\"],[0.1111111111111111,\"#46039f\"],[0.2222222222222222,\"#7201a8\"],[0.3333333333333333,\"#9c179e\"],[0.4444444444444444,\"#bd3786\"],[0.5555555555555556,\"#d8576b\"],[0.6666666666666666,\"#ed7953\"],[0.7777777777777778,\"#fb9f3a\"],[0.8888888888888888,\"#fdca26\"],[1.0,\"#f0f921\"]]}],\"heatmap\":[{\"type\":\"heatmap\",\"colorbar\":{\"outlinewidth\":0,\"ticks\":\"\"},\"colorscale\":[[0.0,\"#0d0887\"],[0.1111111111111111,\"#46039f\"],[0.2222222222222222,\"#7201a8\"],[0.3333333333333333,\"#9c179e\"],[0.4444444444444444,\"#bd3786\"],[0.5555555555555556,\"#d8576b\"],[0.6666666666666666,\"#ed7953\"],[0.7777777777777778,\"#fb9f3a\"],[0.8888888888888888,\"#fdca26\"],[1.0,\"#f0f921\"]]}],\"heatmapgl\":[{\"type\":\"heatmapgl\",\"colorbar\":{\"outlinewidth\":0,\"ticks\":\"\"},\"colorscale\":[[0.0,\"#0d0887\"],[0.1111111111111111,\"#46039f\"],[0.2222222222222222,\"#7201a8\"],[0.3333333333333333,\"#9c179e\"],[0.4444444444444444,\"#bd3786\"],[0.5555555555555556,\"#d8576b\"],[0.6666666666666666,\"#ed7953\"],[0.7777777777777778,\"#fb9f3a\"],[0.8888888888888888,\"#fdca26\"],[1.0,\"#f0f921\"]]}],\"contourcarpet\":[{\"type\":\"contourcarpet\",\"colorbar\":{\"outlinewidth\":0,\"ticks\":\"\"}}],\"contour\":[{\"type\":\"contour\",\"colorbar\":{\"outlinewidth\":0,\"ticks\":\"\"},\"colorscale\":[[0.0,\"#0d0887\"],[0.1111111111111111,\"#46039f\"],[0.2222222222222222,\"#7201a8\"],[0.3333333333333333,\"#9c179e\"],[0.4444444444444444,\"#bd3786\"],[0.5555555555555556,\"#d8576b\"],[0.6666666666666666,\"#ed7953\"],[0.7777777777777778,\"#fb9f3a\"],[0.8888888888888888,\"#fdca26\"],[1.0,\"#f0f921\"]]}],\"surface\":[{\"type\":\"surface\",\"colorbar\":{\"outlinewidth\":0,\"ticks\":\"\"},\"colorscale\":[[0.0,\"#0d0887\"],[0.1111111111111111,\"#46039f\"],[0.2222222222222222,\"#7201a8\"],[0.3333333333333333,\"#9c179e\"],[0.4444444444444444,\"#bd3786\"],[0.5555555555555556,\"#d8576b\"],[0.6666666666666666,\"#ed7953\"],[0.7777777777777778,\"#fb9f3a\"],[0.8888888888888888,\"#fdca26\"],[1.0,\"#f0f921\"]]}],\"mesh3d\":[{\"type\":\"mesh3d\",\"colorbar\":{\"outlinewidth\":0,\"ticks\":\"\"}}],\"scatter\":[{\"fillpattern\":{\"fillmode\":\"overlay\",\"size\":10,\"solidity\":0.2},\"type\":\"scatter\"}],\"parcoords\":[{\"type\":\"parcoords\",\"line\":{\"colorbar\":{\"outlinewidth\":0,\"ticks\":\"\"}}}],\"scatterpolargl\":[{\"type\":\"scatterpolargl\",\"marker\":{\"colorbar\":{\"outlinewidth\":0,\"ticks\":\"\"}}}],\"bar\":[{\"error_x\":{\"color\":\"#2a3f5f\"},\"error_y\":{\"color\":\"#2a3f5f\"},\"marker\":{\"line\":{\"color\":\"#E5ECF6\",\"width\":0.5},\"pattern\":{\"fillmode\":\"overlay\",\"size\":10,\"solidity\":0.2}},\"type\":\"bar\"}],\"scattergeo\":[{\"type\":\"scattergeo\",\"marker\":{\"colorbar\":{\"outlinewidth\":0,\"ticks\":\"\"}}}],\"scatterpolar\":[{\"type\":\"scatterpolar\",\"marker\":{\"colorbar\":{\"outlinewidth\":0,\"ticks\":\"\"}}}],\"histogram\":[{\"marker\":{\"pattern\":{\"fillmode\":\"overlay\",\"size\":10,\"solidity\":0.2}},\"type\":\"histogram\"}],\"scattergl\":[{\"type\":\"scattergl\",\"marker\":{\"colorbar\":{\"outlinewidth\":0,\"ticks\":\"\"}}}],\"scatter3d\":[{\"type\":\"scatter3d\",\"line\":{\"colorbar\":{\"outlinewidth\":0,\"ticks\":\"\"}},\"marker\":{\"colorbar\":{\"outlinewidth\":0,\"ticks\":\"\"}}}],\"scattermapbox\":[{\"type\":\"scattermapbox\",\"marker\":{\"colorbar\":{\"outlinewidth\":0,\"ticks\":\"\"}}}],\"scatterternary\":[{\"type\":\"scatterternary\",\"marker\":{\"colorbar\":{\"outlinewidth\":0,\"ticks\":\"\"}}}],\"scattercarpet\":[{\"type\":\"scattercarpet\",\"marker\":{\"colorbar\":{\"outlinewidth\":0,\"ticks\":\"\"}}}],\"carpet\":[{\"aaxis\":{\"endlinecolor\":\"#2a3f5f\",\"gridcolor\":\"white\",\"linecolor\":\"white\",\"minorgridcolor\":\"white\",\"startlinecolor\":\"#2a3f5f\"},\"baxis\":{\"endlinecolor\":\"#2a3f5f\",\"gridcolor\":\"white\",\"linecolor\":\"white\",\"minorgridcolor\":\"white\",\"startlinecolor\":\"#2a3f5f\"},\"type\":\"carpet\"}],\"table\":[{\"cells\":{\"fill\":{\"color\":\"#EBF0F8\"},\"line\":{\"color\":\"white\"}},\"header\":{\"fill\":{\"color\":\"#C8D4E3\"},\"line\":{\"color\":\"white\"}},\"type\":\"table\"}],\"barpolar\":[{\"marker\":{\"line\":{\"color\":\"#E5ECF6\",\"width\":0.5},\"pattern\":{\"fillmode\":\"overlay\",\"size\":10,\"solidity\":0.2}},\"type\":\"barpolar\"}],\"pie\":[{\"automargin\":true,\"type\":\"pie\"}]},\"layout\":{\"autotypenumbers\":\"strict\",\"colorway\":[\"#636efa\",\"#EF553B\",\"#00cc96\",\"#ab63fa\",\"#FFA15A\",\"#19d3f3\",\"#FF6692\",\"#B6E880\",\"#FF97FF\",\"#FECB52\"],\"font\":{\"color\":\"#2a3f5f\"},\"hovermode\":\"closest\",\"hoverlabel\":{\"align\":\"left\"},\"paper_bgcolor\":\"white\",\"plot_bgcolor\":\"#E5ECF6\",\"polar\":{\"bgcolor\":\"#E5ECF6\",\"angularaxis\":{\"gridcolor\":\"white\",\"linecolor\":\"white\",\"ticks\":\"\"},\"radialaxis\":{\"gridcolor\":\"white\",\"linecolor\":\"white\",\"ticks\":\"\"}},\"ternary\":{\"bgcolor\":\"#E5ECF6\",\"aaxis\":{\"gridcolor\":\"white\",\"linecolor\":\"white\",\"ticks\":\"\"},\"baxis\":{\"gridcolor\":\"white\",\"linecolor\":\"white\",\"ticks\":\"\"},\"caxis\":{\"gridcolor\":\"white\",\"linecolor\":\"white\",\"ticks\":\"\"}},\"coloraxis\":{\"colorbar\":{\"outlinewidth\":0,\"ticks\":\"\"}},\"colorscale\":{\"sequential\":[[0.0,\"#0d0887\"],[0.1111111111111111,\"#46039f\"],[0.2222222222222222,\"#7201a8\"],[0.3333333333333333,\"#9c179e\"],[0.4444444444444444,\"#bd3786\"],[0.5555555555555556,\"#d8576b\"],[0.6666666666666666,\"#ed7953\"],[0.7777777777777778,\"#fb9f3a\"],[0.8888888888888888,\"#fdca26\"],[1.0,\"#f0f921\"]],\"sequentialminus\":[[0.0,\"#0d0887\"],[0.1111111111111111,\"#46039f\"],[0.2222222222222222,\"#7201a8\"],[0.3333333333333333,\"#9c179e\"],[0.4444444444444444,\"#bd3786\"],[0.5555555555555556,\"#d8576b\"],[0.6666666666666666,\"#ed7953\"],[0.7777777777777778,\"#fb9f3a\"],[0.8888888888888888,\"#fdca26\"],[1.0,\"#f0f921\"]],\"diverging\":[[0,\"#8e0152\"],[0.1,\"#c51b7d\"],[0.2,\"#de77ae\"],[0.3,\"#f1b6da\"],[0.4,\"#fde0ef\"],[0.5,\"#f7f7f7\"],[0.6,\"#e6f5d0\"],[0.7,\"#b8e186\"],[0.8,\"#7fbc41\"],[0.9,\"#4d9221\"],[1,\"#276419\"]]},\"xaxis\":{\"gridcolor\":\"white\",\"linecolor\":\"white\",\"ticks\":\"\",\"title\":{\"standoff\":15},\"zerolinecolor\":\"white\",\"automargin\":true,\"zerolinewidth\":2},\"yaxis\":{\"gridcolor\":\"white\",\"linecolor\":\"white\",\"ticks\":\"\",\"title\":{\"standoff\":15},\"zerolinecolor\":\"white\",\"automargin\":true,\"zerolinewidth\":2},\"scene\":{\"xaxis\":{\"backgroundcolor\":\"#E5ECF6\",\"gridcolor\":\"white\",\"linecolor\":\"white\",\"showbackground\":true,\"ticks\":\"\",\"zerolinecolor\":\"white\",\"gridwidth\":2},\"yaxis\":{\"backgroundcolor\":\"#E5ECF6\",\"gridcolor\":\"white\",\"linecolor\":\"white\",\"showbackground\":true,\"ticks\":\"\",\"zerolinecolor\":\"white\",\"gridwidth\":2},\"zaxis\":{\"backgroundcolor\":\"#E5ECF6\",\"gridcolor\":\"white\",\"linecolor\":\"white\",\"showbackground\":true,\"ticks\":\"\",\"zerolinecolor\":\"white\",\"gridwidth\":2}},\"shapedefaults\":{\"line\":{\"color\":\"#2a3f5f\"}},\"annotationdefaults\":{\"arrowcolor\":\"#2a3f5f\",\"arrowhead\":0,\"arrowwidth\":1},\"geo\":{\"bgcolor\":\"white\",\"landcolor\":\"#E5ECF6\",\"subunitcolor\":\"white\",\"showland\":true,\"showlakes\":true,\"lakecolor\":\"white\"},\"title\":{\"x\":0.05},\"mapbox\":{\"style\":\"light\"}}},\"xaxis\":{\"anchor\":\"y\",\"domain\":[0.0,1.0],\"title\":{\"text\":\"index\"}},\"yaxis\":{\"anchor\":\"x\",\"domain\":[0.0,1.0],\"title\":{\"text\":\"value\"}},\"legend\":{\"title\":{\"text\":\"variable\"},\"tracegroupgap\":0},\"margin\":{\"t\":60}},                        {\"responsive\": true}                    ).then(function(){\n",
       "                            \n",
       "var gd = document.getElementById('27ca3a0c-cf87-4040-b69f-c855f019c65c');\n",
       "var x = new MutationObserver(function (mutations, observer) {{\n",
       "        var display = window.getComputedStyle(gd).display;\n",
       "        if (!display || display === 'none') {{\n",
       "            console.log([gd, 'removed!']);\n",
       "            Plotly.purge(gd);\n",
       "            observer.disconnect();\n",
       "        }}\n",
       "}});\n",
       "\n",
       "// Listen for the removal of the full notebook cells\n",
       "var notebookContainer = gd.closest('#notebook-container');\n",
       "if (notebookContainer) {{\n",
       "    x.observe(notebookContainer, {childList: true});\n",
       "}}\n",
       "\n",
       "// Listen for the clearing of the current output cell\n",
       "var outputEl = gd.closest('.output');\n",
       "if (outputEl) {{\n",
       "    x.observe(outputEl, {childList: true});\n",
       "}}\n",
       "\n",
       "                        })                };                });            </script>        </div>"
      ]
     },
     "metadata": {},
     "output_type": "display_data"
    }
   ],
   "source": [
    "px.line(df[[\"val_loss\",\"val_acc\", \"val_off_by_1\"]])"
   ]
  },
  {
   "cell_type": "code",
   "execution_count": 27,
   "id": "700841cc-3678-421a-8cc8-c909ce302001",
   "metadata": {},
   "outputs": [
    {
     "data": {
      "application/vnd.plotly.v1+json": {
       "config": {
        "plotlyServerURL": "https://plot.ly"
       },
       "data": [
        {
         "name": "valid_loss",
         "type": "scatter",
         "x": [
          0,
          1,
          2,
          3,
          4,
          5,
          6,
          7,
          8,
          9,
          10,
          11,
          12,
          13,
          14,
          15,
          16,
          17,
          18,
          19,
          20,
          21,
          22,
          23,
          24,
          25,
          26,
          27,
          28,
          29,
          30,
          31,
          32,
          33,
          34,
          35,
          36,
          37,
          38,
          39,
          40,
          41,
          42,
          43,
          44,
          45,
          46,
          47,
          48,
          49
         ],
         "xaxis": "x",
         "y": [
          0.1552337378025055,
          0.1409257625460624,
          0.1360037978887558,
          0.1246996743917465,
          0.1209103204369545,
          0.1180106041789054,
          0.1163583550214767,
          0.1147951025605201,
          0.1137265381932258,
          0.1130412688732147,
          0.1124836843848228,
          0.1117527660131454,
          0.1111763022005558,
          0.1106733648538589,
          0.1103731633543968,
          0.1099446096360683,
          0.1096166675567626,
          0.1093539993166923,
          0.1092816880464553,
          0.1090727064311504,
          0.1087185363411903,
          0.1086760569870472,
          0.1084003225386142,
          0.108149553912878,
          0.1079080931961536,
          0.107963072836399,
          0.1076880986273288,
          0.107946152883768,
          0.1073565602958202,
          0.1072802740752697,
          0.1072686312139034,
          0.1070388055562973,
          0.1071649351656437,
          0.1068882470667362,
          0.1068203800499439,
          0.1065911665320396,
          0.1065933386683464,
          0.1064051554262638,
          0.1064550686180591,
          0.1063806763112545,
          0.1062245747566223,
          0.1060942080199718,
          0.1060023910701274,
          0.1058696605026722,
          0.1061178428590297,
          0.1057827345311641,
          0.1056755487143993,
          0.105898915374279,
          0.1056315886139869,
          0.1056187786996364
         ],
         "yaxis": "y"
        },
        {
         "name": "train",
         "type": "scatter",
         "x": [
          0,
          1,
          2,
          3,
          4,
          5,
          6,
          7,
          8,
          9,
          10,
          11,
          12,
          13,
          14,
          15,
          16,
          17,
          18,
          19,
          20,
          21,
          22,
          23,
          24,
          25,
          26,
          27,
          28,
          29,
          30,
          31,
          32,
          33,
          34,
          35,
          36,
          37,
          38,
          39,
          40,
          41,
          42,
          43,
          44,
          45,
          46,
          47,
          48,
          49
         ],
         "xaxis": "x",
         "y": [
          0.1597254778438806,
          0.1487856381493806,
          0.1403478249415755,
          0.1327448824298381,
          0.1269585848551988,
          0.1235083901512622,
          0.1211123725935816,
          0.1192539154314994,
          0.1179578386399149,
          0.1167752429056167,
          0.1160132316939532,
          0.1152023554134368,
          0.1146111053082346,
          0.1139311667025089,
          0.1134212340995669,
          0.1129324038754403,
          0.1126801205527782,
          0.1122799417361617,
          0.1120099957868456,
          0.1116408728063106,
          0.1113438497832417,
          0.1111880903299152,
          0.1110439706338942,
          0.1108519650615751,
          0.11056734156847,
          0.1103381814706325,
          0.1103342758338153,
          0.1100378237780928,
          0.1097848680314421,
          0.1096764093112945,
          0.109604517353326,
          0.1094529056859016,
          0.109273123036772,
          0.1091548333241045,
          0.1090910980539024,
          0.1088463552734255,
          0.1086998496635258,
          0.108794924313277,
          0.1086619389428198,
          0.1084731367951631,
          0.1083386971530318,
          0.1083091886772215,
          0.1081625593823194,
          0.1080348558416962,
          0.1079832540434598,
          0.1077882932093739,
          0.1078113493557274,
          0.1077115997432172,
          0.107665348662883,
          0.1075187026317417
         ],
         "yaxis": "y"
        },
        {
         "name": "valid_acc",
         "type": "scatter",
         "x": [
          0,
          1,
          2,
          3,
          4,
          5,
          6,
          7,
          8,
          9,
          10,
          11,
          12,
          13,
          14,
          15,
          16,
          17,
          18,
          19,
          20,
          21,
          22,
          23,
          24,
          25,
          26,
          27,
          28,
          29,
          30,
          31,
          32,
          33,
          34,
          35,
          36,
          37,
          38,
          39,
          40,
          41,
          42,
          43,
          44,
          45,
          46,
          47,
          48,
          49
         ],
         "xaxis": "x2",
         "y": [
          0.3324,
          0.3826,
          0.4052,
          0.4292,
          0.4522,
          0.4726,
          0.4828,
          0.4906,
          0.4912,
          0.4996,
          0.4982,
          0.4994,
          0.4988,
          0.5022,
          0.5006,
          0.5058,
          0.5042,
          0.504,
          0.5108,
          0.5102,
          0.5114,
          0.5134,
          0.5136,
          0.5108,
          0.515,
          0.517,
          0.5124,
          0.5116,
          0.5166,
          0.5158,
          0.5198,
          0.5188,
          0.514,
          0.5184,
          0.5194,
          0.521,
          0.515,
          0.5244,
          0.5198,
          0.5234,
          0.5188,
          0.5204,
          0.5192,
          0.5206,
          0.5218,
          0.5164,
          0.5218,
          0.5236,
          0.525,
          0.5298
         ],
         "yaxis": "y2"
        },
        {
         "name": "train_acc",
         "type": "scatter",
         "x": [
          0,
          1,
          2,
          3,
          4,
          5,
          6,
          7,
          8,
          9,
          10,
          11,
          12,
          13,
          14,
          15,
          16,
          17,
          18,
          19,
          20,
          21,
          22,
          23,
          24,
          25,
          26,
          27,
          28,
          29,
          30,
          31,
          32,
          33,
          34,
          35,
          36,
          37,
          38,
          39,
          40,
          41,
          42,
          43,
          44,
          45,
          46,
          47,
          48,
          49
         ],
         "xaxis": "x2",
         "y": [
          0.24728,
          0.35308,
          0.393115,
          0.41007,
          0.428715,
          0.446015,
          0.46033,
          0.471885,
          0.480645,
          0.48404,
          0.489165,
          0.492985,
          0.49542,
          0.49872,
          0.50175,
          0.504475,
          0.504475,
          0.506195,
          0.50768,
          0.508495,
          0.511435,
          0.51098,
          0.51184,
          0.511935,
          0.51445,
          0.513825,
          0.516115,
          0.516345,
          0.517275,
          0.517965,
          0.51842,
          0.518425,
          0.5202,
          0.520125,
          0.52108,
          0.521495,
          0.522645,
          0.52183,
          0.52293,
          0.523085,
          0.52315,
          0.52382,
          0.52431,
          0.5248,
          0.524695,
          0.52577,
          0.525945,
          0.526575,
          0.52639,
          0.526565
         ],
         "yaxis": "y2"
        },
        {
         "name": "valid_ob1",
         "type": "scatter",
         "x": [
          0,
          1,
          2,
          3,
          4,
          5,
          6,
          7,
          8,
          9,
          10,
          11,
          12,
          13,
          14,
          15,
          16,
          17,
          18,
          19,
          20,
          21,
          22,
          23,
          24,
          25,
          26,
          27,
          28,
          29,
          30,
          31,
          32,
          33,
          34,
          35,
          36,
          37,
          38,
          39,
          40,
          41,
          42,
          43,
          44,
          45,
          46,
          47,
          48,
          49
         ],
         "xaxis": "x3",
         "y": [
          0.6338,
          0.7366,
          0.7846,
          0.8188,
          0.846,
          0.8672,
          0.8774,
          0.8852,
          0.8832,
          0.8906,
          0.8914,
          0.893,
          0.8902,
          0.8968,
          0.8968,
          0.9036,
          0.8998,
          0.8998,
          0.905,
          0.9032,
          0.9016,
          0.9034,
          0.9038,
          0.9044,
          0.905,
          0.9084,
          0.907,
          0.9074,
          0.9086,
          0.9088,
          0.9088,
          0.9106,
          0.9098,
          0.9082,
          0.9108,
          0.9106,
          0.9086,
          0.9136,
          0.9106,
          0.9154,
          0.9118,
          0.9112,
          0.9128,
          0.9124,
          0.9124,
          0.9102,
          0.9136,
          0.9168,
          0.916,
          0.9128
         ],
         "yaxis": "y3"
        },
        {
         "name": "train_ob1",
         "type": "scatter",
         "x": [
          0,
          1,
          2,
          3,
          4,
          5,
          6,
          7,
          8,
          9,
          10,
          11,
          12,
          13,
          14,
          15,
          16,
          17,
          18,
          19,
          20,
          21,
          22,
          23,
          24,
          25,
          26,
          27,
          28,
          29,
          30,
          31,
          32,
          33,
          34,
          35,
          36,
          37,
          38,
          39,
          40,
          41,
          42,
          43,
          44,
          45,
          46,
          47,
          48,
          49
         ],
         "xaxis": "x3",
         "y": [
          0.60628,
          0.675915,
          0.751755,
          0.79435,
          0.823995,
          0.84426,
          0.85828,
          0.868505,
          0.875275,
          0.880955,
          0.883375,
          0.886345,
          0.88883,
          0.89115,
          0.892695,
          0.89355,
          0.895095,
          0.896705,
          0.89723,
          0.89789,
          0.899765,
          0.900015,
          0.900095,
          0.901505,
          0.90155,
          0.902255,
          0.90273,
          0.903465,
          0.90399,
          0.9041,
          0.9047,
          0.905195,
          0.90559,
          0.90563,
          0.90593,
          0.907255,
          0.90691,
          0.907395,
          0.907515,
          0.908315,
          0.90866,
          0.90934,
          0.908875,
          0.908895,
          0.909945,
          0.90982,
          0.90945,
          0.910275,
          0.91102,
          0.91056
         ],
         "yaxis": "y3"
        }
       ],
       "layout": {
        "autosize": true,
        "template": {
         "data": {
          "bar": [
           {
            "error_x": {
             "color": "#2a3f5f"
            },
            "error_y": {
             "color": "#2a3f5f"
            },
            "marker": {
             "line": {
              "color": "#E5ECF6",
              "width": 0.5
             },
             "pattern": {
              "fillmode": "overlay",
              "size": 10,
              "solidity": 0.2
             }
            },
            "type": "bar"
           }
          ],
          "barpolar": [
           {
            "marker": {
             "line": {
              "color": "#E5ECF6",
              "width": 0.5
             },
             "pattern": {
              "fillmode": "overlay",
              "size": 10,
              "solidity": 0.2
             }
            },
            "type": "barpolar"
           }
          ],
          "carpet": [
           {
            "aaxis": {
             "endlinecolor": "#2a3f5f",
             "gridcolor": "white",
             "linecolor": "white",
             "minorgridcolor": "white",
             "startlinecolor": "#2a3f5f"
            },
            "baxis": {
             "endlinecolor": "#2a3f5f",
             "gridcolor": "white",
             "linecolor": "white",
             "minorgridcolor": "white",
             "startlinecolor": "#2a3f5f"
            },
            "type": "carpet"
           }
          ],
          "choropleth": [
           {
            "colorbar": {
             "outlinewidth": 0,
             "ticks": ""
            },
            "type": "choropleth"
           }
          ],
          "contour": [
           {
            "colorbar": {
             "outlinewidth": 0,
             "ticks": ""
            },
            "colorscale": [
             [
              0,
              "#0d0887"
             ],
             [
              0.1111111111111111,
              "#46039f"
             ],
             [
              0.2222222222222222,
              "#7201a8"
             ],
             [
              0.3333333333333333,
              "#9c179e"
             ],
             [
              0.4444444444444444,
              "#bd3786"
             ],
             [
              0.5555555555555556,
              "#d8576b"
             ],
             [
              0.6666666666666666,
              "#ed7953"
             ],
             [
              0.7777777777777778,
              "#fb9f3a"
             ],
             [
              0.8888888888888888,
              "#fdca26"
             ],
             [
              1,
              "#f0f921"
             ]
            ],
            "type": "contour"
           }
          ],
          "contourcarpet": [
           {
            "colorbar": {
             "outlinewidth": 0,
             "ticks": ""
            },
            "type": "contourcarpet"
           }
          ],
          "heatmap": [
           {
            "colorbar": {
             "outlinewidth": 0,
             "ticks": ""
            },
            "colorscale": [
             [
              0,
              "#0d0887"
             ],
             [
              0.1111111111111111,
              "#46039f"
             ],
             [
              0.2222222222222222,
              "#7201a8"
             ],
             [
              0.3333333333333333,
              "#9c179e"
             ],
             [
              0.4444444444444444,
              "#bd3786"
             ],
             [
              0.5555555555555556,
              "#d8576b"
             ],
             [
              0.6666666666666666,
              "#ed7953"
             ],
             [
              0.7777777777777778,
              "#fb9f3a"
             ],
             [
              0.8888888888888888,
              "#fdca26"
             ],
             [
              1,
              "#f0f921"
             ]
            ],
            "type": "heatmap"
           }
          ],
          "heatmapgl": [
           {
            "colorbar": {
             "outlinewidth": 0,
             "ticks": ""
            },
            "colorscale": [
             [
              0,
              "#0d0887"
             ],
             [
              0.1111111111111111,
              "#46039f"
             ],
             [
              0.2222222222222222,
              "#7201a8"
             ],
             [
              0.3333333333333333,
              "#9c179e"
             ],
             [
              0.4444444444444444,
              "#bd3786"
             ],
             [
              0.5555555555555556,
              "#d8576b"
             ],
             [
              0.6666666666666666,
              "#ed7953"
             ],
             [
              0.7777777777777778,
              "#fb9f3a"
             ],
             [
              0.8888888888888888,
              "#fdca26"
             ],
             [
              1,
              "#f0f921"
             ]
            ],
            "type": "heatmapgl"
           }
          ],
          "histogram": [
           {
            "marker": {
             "pattern": {
              "fillmode": "overlay",
              "size": 10,
              "solidity": 0.2
             }
            },
            "type": "histogram"
           }
          ],
          "histogram2d": [
           {
            "colorbar": {
             "outlinewidth": 0,
             "ticks": ""
            },
            "colorscale": [
             [
              0,
              "#0d0887"
             ],
             [
              0.1111111111111111,
              "#46039f"
             ],
             [
              0.2222222222222222,
              "#7201a8"
             ],
             [
              0.3333333333333333,
              "#9c179e"
             ],
             [
              0.4444444444444444,
              "#bd3786"
             ],
             [
              0.5555555555555556,
              "#d8576b"
             ],
             [
              0.6666666666666666,
              "#ed7953"
             ],
             [
              0.7777777777777778,
              "#fb9f3a"
             ],
             [
              0.8888888888888888,
              "#fdca26"
             ],
             [
              1,
              "#f0f921"
             ]
            ],
            "type": "histogram2d"
           }
          ],
          "histogram2dcontour": [
           {
            "colorbar": {
             "outlinewidth": 0,
             "ticks": ""
            },
            "colorscale": [
             [
              0,
              "#0d0887"
             ],
             [
              0.1111111111111111,
              "#46039f"
             ],
             [
              0.2222222222222222,
              "#7201a8"
             ],
             [
              0.3333333333333333,
              "#9c179e"
             ],
             [
              0.4444444444444444,
              "#bd3786"
             ],
             [
              0.5555555555555556,
              "#d8576b"
             ],
             [
              0.6666666666666666,
              "#ed7953"
             ],
             [
              0.7777777777777778,
              "#fb9f3a"
             ],
             [
              0.8888888888888888,
              "#fdca26"
             ],
             [
              1,
              "#f0f921"
             ]
            ],
            "type": "histogram2dcontour"
           }
          ],
          "mesh3d": [
           {
            "colorbar": {
             "outlinewidth": 0,
             "ticks": ""
            },
            "type": "mesh3d"
           }
          ],
          "parcoords": [
           {
            "line": {
             "colorbar": {
              "outlinewidth": 0,
              "ticks": ""
             }
            },
            "type": "parcoords"
           }
          ],
          "pie": [
           {
            "automargin": true,
            "type": "pie"
           }
          ],
          "scatter": [
           {
            "fillpattern": {
             "fillmode": "overlay",
             "size": 10,
             "solidity": 0.2
            },
            "type": "scatter"
           }
          ],
          "scatter3d": [
           {
            "line": {
             "colorbar": {
              "outlinewidth": 0,
              "ticks": ""
             }
            },
            "marker": {
             "colorbar": {
              "outlinewidth": 0,
              "ticks": ""
             }
            },
            "type": "scatter3d"
           }
          ],
          "scattercarpet": [
           {
            "marker": {
             "colorbar": {
              "outlinewidth": 0,
              "ticks": ""
             }
            },
            "type": "scattercarpet"
           }
          ],
          "scattergeo": [
           {
            "marker": {
             "colorbar": {
              "outlinewidth": 0,
              "ticks": ""
             }
            },
            "type": "scattergeo"
           }
          ],
          "scattergl": [
           {
            "marker": {
             "colorbar": {
              "outlinewidth": 0,
              "ticks": ""
             }
            },
            "type": "scattergl"
           }
          ],
          "scattermapbox": [
           {
            "marker": {
             "colorbar": {
              "outlinewidth": 0,
              "ticks": ""
             }
            },
            "type": "scattermapbox"
           }
          ],
          "scatterpolar": [
           {
            "marker": {
             "colorbar": {
              "outlinewidth": 0,
              "ticks": ""
             }
            },
            "type": "scatterpolar"
           }
          ],
          "scatterpolargl": [
           {
            "marker": {
             "colorbar": {
              "outlinewidth": 0,
              "ticks": ""
             }
            },
            "type": "scatterpolargl"
           }
          ],
          "scatterternary": [
           {
            "marker": {
             "colorbar": {
              "outlinewidth": 0,
              "ticks": ""
             }
            },
            "type": "scatterternary"
           }
          ],
          "surface": [
           {
            "colorbar": {
             "outlinewidth": 0,
             "ticks": ""
            },
            "colorscale": [
             [
              0,
              "#0d0887"
             ],
             [
              0.1111111111111111,
              "#46039f"
             ],
             [
              0.2222222222222222,
              "#7201a8"
             ],
             [
              0.3333333333333333,
              "#9c179e"
             ],
             [
              0.4444444444444444,
              "#bd3786"
             ],
             [
              0.5555555555555556,
              "#d8576b"
             ],
             [
              0.6666666666666666,
              "#ed7953"
             ],
             [
              0.7777777777777778,
              "#fb9f3a"
             ],
             [
              0.8888888888888888,
              "#fdca26"
             ],
             [
              1,
              "#f0f921"
             ]
            ],
            "type": "surface"
           }
          ],
          "table": [
           {
            "cells": {
             "fill": {
              "color": "#EBF0F8"
             },
             "line": {
              "color": "white"
             }
            },
            "header": {
             "fill": {
              "color": "#C8D4E3"
             },
             "line": {
              "color": "white"
             }
            },
            "type": "table"
           }
          ]
         },
         "layout": {
          "annotationdefaults": {
           "arrowcolor": "#2a3f5f",
           "arrowhead": 0,
           "arrowwidth": 1
          },
          "autotypenumbers": "strict",
          "coloraxis": {
           "colorbar": {
            "outlinewidth": 0,
            "ticks": ""
           }
          },
          "colorscale": {
           "diverging": [
            [
             0,
             "#8e0152"
            ],
            [
             0.1,
             "#c51b7d"
            ],
            [
             0.2,
             "#de77ae"
            ],
            [
             0.3,
             "#f1b6da"
            ],
            [
             0.4,
             "#fde0ef"
            ],
            [
             0.5,
             "#f7f7f7"
            ],
            [
             0.6,
             "#e6f5d0"
            ],
            [
             0.7,
             "#b8e186"
            ],
            [
             0.8,
             "#7fbc41"
            ],
            [
             0.9,
             "#4d9221"
            ],
            [
             1,
             "#276419"
            ]
           ],
           "sequential": [
            [
             0,
             "#0d0887"
            ],
            [
             0.1111111111111111,
             "#46039f"
            ],
            [
             0.2222222222222222,
             "#7201a8"
            ],
            [
             0.3333333333333333,
             "#9c179e"
            ],
            [
             0.4444444444444444,
             "#bd3786"
            ],
            [
             0.5555555555555556,
             "#d8576b"
            ],
            [
             0.6666666666666666,
             "#ed7953"
            ],
            [
             0.7777777777777778,
             "#fb9f3a"
            ],
            [
             0.8888888888888888,
             "#fdca26"
            ],
            [
             1,
             "#f0f921"
            ]
           ],
           "sequentialminus": [
            [
             0,
             "#0d0887"
            ],
            [
             0.1111111111111111,
             "#46039f"
            ],
            [
             0.2222222222222222,
             "#7201a8"
            ],
            [
             0.3333333333333333,
             "#9c179e"
            ],
            [
             0.4444444444444444,
             "#bd3786"
            ],
            [
             0.5555555555555556,
             "#d8576b"
            ],
            [
             0.6666666666666666,
             "#ed7953"
            ],
            [
             0.7777777777777778,
             "#fb9f3a"
            ],
            [
             0.8888888888888888,
             "#fdca26"
            ],
            [
             1,
             "#f0f921"
            ]
           ]
          },
          "colorway": [
           "#636efa",
           "#EF553B",
           "#00cc96",
           "#ab63fa",
           "#FFA15A",
           "#19d3f3",
           "#FF6692",
           "#B6E880",
           "#FF97FF",
           "#FECB52"
          ],
          "font": {
           "color": "#2a3f5f"
          },
          "geo": {
           "bgcolor": "white",
           "lakecolor": "white",
           "landcolor": "#E5ECF6",
           "showlakes": true,
           "showland": true,
           "subunitcolor": "white"
          },
          "hoverlabel": {
           "align": "left"
          },
          "hovermode": "closest",
          "mapbox": {
           "style": "light"
          },
          "paper_bgcolor": "white",
          "plot_bgcolor": "#E5ECF6",
          "polar": {
           "angularaxis": {
            "gridcolor": "white",
            "linecolor": "white",
            "ticks": ""
           },
           "bgcolor": "#E5ECF6",
           "radialaxis": {
            "gridcolor": "white",
            "linecolor": "white",
            "ticks": ""
           }
          },
          "scene": {
           "xaxis": {
            "backgroundcolor": "#E5ECF6",
            "gridcolor": "white",
            "gridwidth": 2,
            "linecolor": "white",
            "showbackground": true,
            "ticks": "",
            "zerolinecolor": "white"
           },
           "yaxis": {
            "backgroundcolor": "#E5ECF6",
            "gridcolor": "white",
            "gridwidth": 2,
            "linecolor": "white",
            "showbackground": true,
            "ticks": "",
            "zerolinecolor": "white"
           },
           "zaxis": {
            "backgroundcolor": "#E5ECF6",
            "gridcolor": "white",
            "gridwidth": 2,
            "linecolor": "white",
            "showbackground": true,
            "ticks": "",
            "zerolinecolor": "white"
           }
          },
          "shapedefaults": {
           "line": {
            "color": "#2a3f5f"
           }
          },
          "ternary": {
           "aaxis": {
            "gridcolor": "white",
            "linecolor": "white",
            "ticks": ""
           },
           "baxis": {
            "gridcolor": "white",
            "linecolor": "white",
            "ticks": ""
           },
           "bgcolor": "#E5ECF6",
           "caxis": {
            "gridcolor": "white",
            "linecolor": "white",
            "ticks": ""
           }
          },
          "title": {
           "x": 0.05
          },
          "xaxis": {
           "automargin": true,
           "gridcolor": "white",
           "linecolor": "white",
           "ticks": "",
           "title": {
            "standoff": 15
           },
           "zerolinecolor": "white",
           "zerolinewidth": 2
          },
          "yaxis": {
           "automargin": true,
           "gridcolor": "white",
           "linecolor": "white",
           "ticks": "",
           "title": {
            "standoff": 15
           },
           "zerolinecolor": "white",
           "zerolinewidth": 2
          }
         }
        },
        "xaxis": {
         "anchor": "y",
         "autorange": true,
         "domain": [
          0,
          1
         ],
         "matches": "x3",
         "range": [
          0,
          49
         ],
         "showticklabels": false,
         "type": "linear"
        },
        "xaxis2": {
         "anchor": "y2",
         "autorange": true,
         "domain": [
          0,
          1
         ],
         "matches": "x3",
         "range": [
          0,
          49
         ],
         "showticklabels": false,
         "type": "linear"
        },
        "xaxis3": {
         "anchor": "y3",
         "autorange": true,
         "domain": [
          0,
          1
         ],
         "range": [
          0,
          49
         ],
         "type": "linear"
        },
        "yaxis": {
         "anchor": "x",
         "autorange": true,
         "domain": [
          0.7333333333333333,
          1
         ],
         "range": [
          0.1026128509694006,
          0.1627314055741164
         ],
         "type": "linear"
        },
        "yaxis2": {
         "anchor": "x2",
         "autorange": true,
         "domain": [
          0.36666666666666664,
          0.6333333333333333
         ],
         "range": [
          0.23158444444444443,
          0.5454955555555556
         ],
         "type": "linear"
        },
        "yaxis3": {
         "anchor": "x3",
         "autorange": true,
         "domain": [
          0,
          0.26666666666666666
         ],
         "range": [
          0.5890288888888889,
          0.934051111111111
         ],
         "type": "linear"
        }
       }
      },
      "image/png": "[encoded data removed]",
      "text/html": [
       "<div>                            <div id=\"686088f9-5498-4c8c-96be-4ff71aebd382\" class=\"plotly-graph-div\" style=\"height:1300px; width:100%;\"></div>            <script type=\"text/javascript\">                require([\"plotly\"], function(Plotly) {                    window.PLOTLYENV=window.PLOTLYENV || {};                                    if (document.getElementById(\"686088f9-5498-4c8c-96be-4ff71aebd382\")) {                    Plotly.newPlot(                        \"686088f9-5498-4c8c-96be-4ff71aebd382\",                        [{\"name\":\"valid_loss\",\"x\":[0,1,2,3,4,5,6,7,8,9,10,11,12,13,14,15,16,17,18,19,20,21,22,23,24,25,26,27,28,29,30,31,32,33,34,35,36,37,38,39,40,41,42,43,44,45,46,47,48,49],\"y\":[0.1552337378025055,0.1409257625460624,0.1360037978887558,0.1246996743917465,0.1209103204369545,0.1180106041789054,0.1163583550214767,0.1147951025605201,0.1137265381932258,0.1130412688732147,0.1124836843848228,0.1117527660131454,0.1111763022005558,0.1106733648538589,0.1103731633543968,0.1099446096360683,0.1096166675567626,0.1093539993166923,0.1092816880464553,0.1090727064311504,0.1087185363411903,0.1086760569870472,0.1084003225386142,0.108149553912878,0.1079080931961536,0.107963072836399,0.1076880986273288,0.107946152883768,0.1073565602958202,0.1072802740752697,0.1072686312139034,0.1070388055562973,0.1071649351656437,0.1068882470667362,0.1068203800499439,0.1065911665320396,0.1065933386683464,0.1064051554262638,0.1064550686180591,0.1063806763112545,0.1062245747566223,0.1060942080199718,0.1060023910701274,0.1058696605026722,0.1061178428590297,0.1057827345311641,0.1056755487143993,0.105898915374279,0.1056315886139869,0.1056187786996364],\"type\":\"scatter\",\"xaxis\":\"x\",\"yaxis\":\"y\"},{\"name\":\"train\",\"x\":[0,1,2,3,4,5,6,7,8,9,10,11,12,13,14,15,16,17,18,19,20,21,22,23,24,25,26,27,28,29,30,31,32,33,34,35,36,37,38,39,40,41,42,43,44,45,46,47,48,49],\"y\":[0.1597254778438806,0.1487856381493806,0.1403478249415755,0.1327448824298381,0.1269585848551988,0.1235083901512622,0.1211123725935816,0.1192539154314994,0.1179578386399149,0.1167752429056167,0.1160132316939532,0.1152023554134368,0.1146111053082346,0.1139311667025089,0.1134212340995669,0.1129324038754403,0.1126801205527782,0.1122799417361617,0.1120099957868456,0.1116408728063106,0.1113438497832417,0.1111880903299152,0.1110439706338942,0.1108519650615751,0.11056734156847,0.1103381814706325,0.1103342758338153,0.1100378237780928,0.1097848680314421,0.1096764093112945,0.109604517353326,0.1094529056859016,0.109273123036772,0.1091548333241045,0.1090910980539024,0.1088463552734255,0.1086998496635258,0.108794924313277,0.1086619389428198,0.1084731367951631,0.1083386971530318,0.1083091886772215,0.1081625593823194,0.1080348558416962,0.1079832540434598,0.1077882932093739,0.1078113493557274,0.1077115997432172,0.107665348662883,0.1075187026317417],\"type\":\"scatter\",\"xaxis\":\"x\",\"yaxis\":\"y\"},{\"name\":\"valid_acc\",\"x\":[0,1,2,3,4,5,6,7,8,9,10,11,12,13,14,15,16,17,18,19,20,21,22,23,24,25,26,27,28,29,30,31,32,33,34,35,36,37,38,39,40,41,42,43,44,45,46,47,48,49],\"y\":[0.3324,0.3826,0.4052,0.4292,0.4522,0.4726,0.4828,0.4906,0.4912,0.4996,0.4982,0.4994,0.4988,0.5022,0.5006,0.5058,0.5042,0.504,0.5108,0.5102,0.5114,0.5134,0.5136,0.5108,0.515,0.517,0.5124,0.5116,0.5166,0.5158,0.5198,0.5188,0.514,0.5184,0.5194,0.521,0.515,0.5244,0.5198,0.5234,0.5188,0.5204,0.5192,0.5206,0.5218,0.5164,0.5218,0.5236,0.525,0.5298],\"type\":\"scatter\",\"xaxis\":\"x2\",\"yaxis\":\"y2\"},{\"name\":\"train_acc\",\"x\":[0,1,2,3,4,5,6,7,8,9,10,11,12,13,14,15,16,17,18,19,20,21,22,23,24,25,26,27,28,29,30,31,32,33,34,35,36,37,38,39,40,41,42,43,44,45,46,47,48,49],\"y\":[0.24728,0.35308,0.393115,0.41007,0.428715,0.446015,0.46033,0.471885,0.480645,0.48404,0.489165,0.492985,0.49542,0.49872,0.50175,0.504475,0.504475,0.506195,0.50768,0.508495,0.511435,0.51098,0.51184,0.511935,0.51445,0.513825,0.516115,0.516345,0.517275,0.517965,0.51842,0.518425,0.5202,0.520125,0.52108,0.521495,0.522645,0.52183,0.52293,0.523085,0.52315,0.52382,0.52431,0.5248,0.524695,0.52577,0.525945,0.526575,0.52639,0.526565],\"type\":\"scatter\",\"xaxis\":\"x2\",\"yaxis\":\"y2\"},{\"name\":\"valid_ob1\",\"x\":[0,1,2,3,4,5,6,7,8,9,10,11,12,13,14,15,16,17,18,19,20,21,22,23,24,25,26,27,28,29,30,31,32,33,34,35,36,37,38,39,40,41,42,43,44,45,46,47,48,49],\"y\":[0.6338,0.7366,0.7846,0.8188,0.846,0.8672,0.8774,0.8852,0.8832,0.8906,0.8914,0.893,0.8902,0.8968,0.8968,0.9036,0.8998,0.8998,0.905,0.9032,0.9016,0.9034,0.9038,0.9044,0.905,0.9084,0.907,0.9074,0.9086,0.9088,0.9088,0.9106,0.9098,0.9082,0.9108,0.9106,0.9086,0.9136,0.9106,0.9154,0.9118,0.9112,0.9128,0.9124,0.9124,0.9102,0.9136,0.9168,0.916,0.9128],\"type\":\"scatter\",\"xaxis\":\"x3\",\"yaxis\":\"y3\"},{\"name\":\"train_ob1\",\"x\":[0,1,2,3,4,5,6,7,8,9,10,11,12,13,14,15,16,17,18,19,20,21,22,23,24,25,26,27,28,29,30,31,32,33,34,35,36,37,38,39,40,41,42,43,44,45,46,47,48,49],\"y\":[0.60628,0.675915,0.751755,0.79435,0.823995,0.84426,0.85828,0.868505,0.875275,0.880955,0.883375,0.886345,0.88883,0.89115,0.892695,0.89355,0.895095,0.896705,0.89723,0.89789,0.899765,0.900015,0.900095,0.901505,0.90155,0.902255,0.90273,0.903465,0.90399,0.9041,0.9047,0.905195,0.90559,0.90563,0.90593,0.907255,0.90691,0.907395,0.907515,0.908315,0.90866,0.90934,0.908875,0.908895,0.909945,0.90982,0.90945,0.910275,0.91102,0.91056],\"type\":\"scatter\",\"xaxis\":\"x3\",\"yaxis\":\"y3\"}],                        {\"template\":{\"data\":{\"histogram2dcontour\":[{\"type\":\"histogram2dcontour\",\"colorbar\":{\"outlinewidth\":0,\"ticks\":\"\"},\"colorscale\":[[0.0,\"#0d0887\"],[0.1111111111111111,\"#46039f\"],[0.2222222222222222,\"#7201a8\"],[0.3333333333333333,\"#9c179e\"],[0.4444444444444444,\"#bd3786\"],[0.5555555555555556,\"#d8576b\"],[0.6666666666666666,\"#ed7953\"],[0.7777777777777778,\"#fb9f3a\"],[0.8888888888888888,\"#fdca26\"],[1.0,\"#f0f921\"]]}],\"choropleth\":[{\"type\":\"choropleth\",\"colorbar\":{\"outlinewidth\":0,\"ticks\":\"\"}}],\"histogram2d\":[{\"type\":\"histogram2d\",\"colorbar\":{\"outlinewidth\":0,\"ticks\":\"\"},\"colorscale\":[[0.0,\"#0d0887\"],[0.1111111111111111,\"#46039f\"],[0.2222222222222222,\"#7201a8\"],[0.3333333333333333,\"#9c179e\"],[0.4444444444444444,\"#bd3786\"],[0.5555555555555556,\"#d8576b\"],[0.6666666666666666,\"#ed7953\"],[0.7777777777777778,\"#fb9f3a\"],[0.8888888888888888,\"#fdca26\"],[1.0,\"#f0f921\"]]}],\"heatmap\":[{\"type\":\"heatmap\",\"colorbar\":{\"outlinewidth\":0,\"ticks\":\"\"},\"colorscale\":[[0.0,\"#0d0887\"],[0.1111111111111111,\"#46039f\"],[0.2222222222222222,\"#7201a8\"],[0.3333333333333333,\"#9c179e\"],[0.4444444444444444,\"#bd3786\"],[0.5555555555555556,\"#d8576b\"],[0.6666666666666666,\"#ed7953\"],[0.7777777777777778,\"#fb9f3a\"],[0.8888888888888888,\"#fdca26\"],[1.0,\"#f0f921\"]]}],\"heatmapgl\":[{\"type\":\"heatmapgl\",\"colorbar\":{\"outlinewidth\":0,\"ticks\":\"\"},\"colorscale\":[[0.0,\"#0d0887\"],[0.1111111111111111,\"#46039f\"],[0.2222222222222222,\"#7201a8\"],[0.3333333333333333,\"#9c179e\"],[0.4444444444444444,\"#bd3786\"],[0.5555555555555556,\"#d8576b\"],[0.6666666666666666,\"#ed7953\"],[0.7777777777777778,\"#fb9f3a\"],[0.8888888888888888,\"#fdca26\"],[1.0,\"#f0f921\"]]}],\"contourcarpet\":[{\"type\":\"contourcarpet\",\"colorbar\":{\"outlinewidth\":0,\"ticks\":\"\"}}],\"contour\":[{\"type\":\"contour\",\"colorbar\":{\"outlinewidth\":0,\"ticks\":\"\"},\"colorscale\":[[0.0,\"#0d0887\"],[0.1111111111111111,\"#46039f\"],[0.2222222222222222,\"#7201a8\"],[0.3333333333333333,\"#9c179e\"],[0.4444444444444444,\"#bd3786\"],[0.5555555555555556,\"#d8576b\"],[0.6666666666666666,\"#ed7953\"],[0.7777777777777778,\"#fb9f3a\"],[0.8888888888888888,\"#fdca26\"],[1.0,\"#f0f921\"]]}],\"surface\":[{\"type\":\"surface\",\"colorbar\":{\"outlinewidth\":0,\"ticks\":\"\"},\"colorscale\":[[0.0,\"#0d0887\"],[0.1111111111111111,\"#46039f\"],[0.2222222222222222,\"#7201a8\"],[0.3333333333333333,\"#9c179e\"],[0.4444444444444444,\"#bd3786\"],[0.5555555555555556,\"#d8576b\"],[0.6666666666666666,\"#ed7953\"],[0.7777777777777778,\"#fb9f3a\"],[0.8888888888888888,\"#fdca26\"],[1.0,\"#f0f921\"]]}],\"mesh3d\":[{\"type\":\"mesh3d\",\"colorbar\":{\"outlinewidth\":0,\"ticks\":\"\"}}],\"scatter\":[{\"fillpattern\":{\"fillmode\":\"overlay\",\"size\":10,\"solidity\":0.2},\"type\":\"scatter\"}],\"parcoords\":[{\"type\":\"parcoords\",\"line\":{\"colorbar\":{\"outlinewidth\":0,\"ticks\":\"\"}}}],\"scatterpolargl\":[{\"type\":\"scatterpolargl\",\"marker\":{\"colorbar\":{\"outlinewidth\":0,\"ticks\":\"\"}}}],\"bar\":[{\"error_x\":{\"color\":\"#2a3f5f\"},\"error_y\":{\"color\":\"#2a3f5f\"},\"marker\":{\"line\":{\"color\":\"#E5ECF6\",\"width\":0.5},\"pattern\":{\"fillmode\":\"overlay\",\"size\":10,\"solidity\":0.2}},\"type\":\"bar\"}],\"scattergeo\":[{\"type\":\"scattergeo\",\"marker\":{\"colorbar\":{\"outlinewidth\":0,\"ticks\":\"\"}}}],\"scatterpolar\":[{\"type\":\"scatterpolar\",\"marker\":{\"colorbar\":{\"outlinewidth\":0,\"ticks\":\"\"}}}],\"histogram\":[{\"marker\":{\"pattern\":{\"fillmode\":\"overlay\",\"size\":10,\"solidity\":0.2}},\"type\":\"histogram\"}],\"scattergl\":[{\"type\":\"scattergl\",\"marker\":{\"colorbar\":{\"outlinewidth\":0,\"ticks\":\"\"}}}],\"scatter3d\":[{\"type\":\"scatter3d\",\"line\":{\"colorbar\":{\"outlinewidth\":0,\"ticks\":\"\"}},\"marker\":{\"colorbar\":{\"outlinewidth\":0,\"ticks\":\"\"}}}],\"scattermapbox\":[{\"type\":\"scattermapbox\",\"marker\":{\"colorbar\":{\"outlinewidth\":0,\"ticks\":\"\"}}}],\"scatterternary\":[{\"type\":\"scatterternary\",\"marker\":{\"colorbar\":{\"outlinewidth\":0,\"ticks\":\"\"}}}],\"scattercarpet\":[{\"type\":\"scattercarpet\",\"marker\":{\"colorbar\":{\"outlinewidth\":0,\"ticks\":\"\"}}}],\"carpet\":[{\"aaxis\":{\"endlinecolor\":\"#2a3f5f\",\"gridcolor\":\"white\",\"linecolor\":\"white\",\"minorgridcolor\":\"white\",\"startlinecolor\":\"#2a3f5f\"},\"baxis\":{\"endlinecolor\":\"#2a3f5f\",\"gridcolor\":\"white\",\"linecolor\":\"white\",\"minorgridcolor\":\"white\",\"startlinecolor\":\"#2a3f5f\"},\"type\":\"carpet\"}],\"table\":[{\"cells\":{\"fill\":{\"color\":\"#EBF0F8\"},\"line\":{\"color\":\"white\"}},\"header\":{\"fill\":{\"color\":\"#C8D4E3\"},\"line\":{\"color\":\"white\"}},\"type\":\"table\"}],\"barpolar\":[{\"marker\":{\"line\":{\"color\":\"#E5ECF6\",\"width\":0.5},\"pattern\":{\"fillmode\":\"overlay\",\"size\":10,\"solidity\":0.2}},\"type\":\"barpolar\"}],\"pie\":[{\"automargin\":true,\"type\":\"pie\"}]},\"layout\":{\"autotypenumbers\":\"strict\",\"colorway\":[\"#636efa\",\"#EF553B\",\"#00cc96\",\"#ab63fa\",\"#FFA15A\",\"#19d3f3\",\"#FF6692\",\"#B6E880\",\"#FF97FF\",\"#FECB52\"],\"font\":{\"color\":\"#2a3f5f\"},\"hovermode\":\"closest\",\"hoverlabel\":{\"align\":\"left\"},\"paper_bgcolor\":\"white\",\"plot_bgcolor\":\"#E5ECF6\",\"polar\":{\"bgcolor\":\"#E5ECF6\",\"angularaxis\":{\"gridcolor\":\"white\",\"linecolor\":\"white\",\"ticks\":\"\"},\"radialaxis\":{\"gridcolor\":\"white\",\"linecolor\":\"white\",\"ticks\":\"\"}},\"ternary\":{\"bgcolor\":\"#E5ECF6\",\"aaxis\":{\"gridcolor\":\"white\",\"linecolor\":\"white\",\"ticks\":\"\"},\"baxis\":{\"gridcolor\":\"white\",\"linecolor\":\"white\",\"ticks\":\"\"},\"caxis\":{\"gridcolor\":\"white\",\"linecolor\":\"white\",\"ticks\":\"\"}},\"coloraxis\":{\"colorbar\":{\"outlinewidth\":0,\"ticks\":\"\"}},\"colorscale\":{\"sequential\":[[0.0,\"#0d0887\"],[0.1111111111111111,\"#46039f\"],[0.2222222222222222,\"#7201a8\"],[0.3333333333333333,\"#9c179e\"],[0.4444444444444444,\"#bd3786\"],[0.5555555555555556,\"#d8576b\"],[0.6666666666666666,\"#ed7953\"],[0.7777777777777778,\"#fb9f3a\"],[0.8888888888888888,\"#fdca26\"],[1.0,\"#f0f921\"]],\"sequentialminus\":[[0.0,\"#0d0887\"],[0.1111111111111111,\"#46039f\"],[0.2222222222222222,\"#7201a8\"],[0.3333333333333333,\"#9c179e\"],[0.4444444444444444,\"#bd3786\"],[0.5555555555555556,\"#d8576b\"],[0.6666666666666666,\"#ed7953\"],[0.7777777777777778,\"#fb9f3a\"],[0.8888888888888888,\"#fdca26\"],[1.0,\"#f0f921\"]],\"diverging\":[[0,\"#8e0152\"],[0.1,\"#c51b7d\"],[0.2,\"#de77ae\"],[0.3,\"#f1b6da\"],[0.4,\"#fde0ef\"],[0.5,\"#f7f7f7\"],[0.6,\"#e6f5d0\"],[0.7,\"#b8e186\"],[0.8,\"#7fbc41\"],[0.9,\"#4d9221\"],[1,\"#276419\"]]},\"xaxis\":{\"gridcolor\":\"white\",\"linecolor\":\"white\",\"ticks\":\"\",\"title\":{\"standoff\":15},\"zerolinecolor\":\"white\",\"automargin\":true,\"zerolinewidth\":2},\"yaxis\":{\"gridcolor\":\"white\",\"linecolor\":\"white\",\"ticks\":\"\",\"title\":{\"standoff\":15},\"zerolinecolor\":\"white\",\"automargin\":true,\"zerolinewidth\":2},\"scene\":{\"xaxis\":{\"backgroundcolor\":\"#E5ECF6\",\"gridcolor\":\"white\",\"linecolor\":\"white\",\"showbackground\":true,\"ticks\":\"\",\"zerolinecolor\":\"white\",\"gridwidth\":2},\"yaxis\":{\"backgroundcolor\":\"#E5ECF6\",\"gridcolor\":\"white\",\"linecolor\":\"white\",\"showbackground\":true,\"ticks\":\"\",\"zerolinecolor\":\"white\",\"gridwidth\":2},\"zaxis\":{\"backgroundcolor\":\"#E5ECF6\",\"gridcolor\":\"white\",\"linecolor\":\"white\",\"showbackground\":true,\"ticks\":\"\",\"zerolinecolor\":\"white\",\"gridwidth\":2}},\"shapedefaults\":{\"line\":{\"color\":\"#2a3f5f\"}},\"annotationdefaults\":{\"arrowcolor\":\"#2a3f5f\",\"arrowhead\":0,\"arrowwidth\":1},\"geo\":{\"bgcolor\":\"white\",\"landcolor\":\"#E5ECF6\",\"subunitcolor\":\"white\",\"showland\":true,\"showlakes\":true,\"lakecolor\":\"white\"},\"title\":{\"x\":0.05},\"mapbox\":{\"style\":\"light\"}}},\"xaxis\":{\"anchor\":\"y\",\"domain\":[0.0,1.0],\"matches\":\"x3\",\"showticklabels\":false},\"yaxis\":{\"anchor\":\"x\",\"domain\":[0.7333333333333333,1.0]},\"xaxis2\":{\"anchor\":\"y2\",\"domain\":[0.0,1.0],\"matches\":\"x3\",\"showticklabels\":false},\"yaxis2\":{\"anchor\":\"x2\",\"domain\":[0.36666666666666664,0.6333333333333333]},\"xaxis3\":{\"anchor\":\"y3\",\"domain\":[0.0,1.0]},\"yaxis3\":{\"anchor\":\"x3\",\"domain\":[0.0,0.26666666666666666]},\"height\":1300},                        {\"responsive\": true}                    ).then(function(){\n",
       "                            \n",
       "var gd = document.getElementById('686088f9-5498-4c8c-96be-4ff71aebd382');\n",
       "var x = new MutationObserver(function (mutations, observer) {{\n",
       "        var display = window.getComputedStyle(gd).display;\n",
       "        if (!display || display === 'none') {{\n",
       "            console.log([gd, 'removed!']);\n",
       "            Plotly.purge(gd);\n",
       "            observer.disconnect();\n",
       "        }}\n",
       "}});\n",
       "\n",
       "// Listen for the removal of the full notebook cells\n",
       "var notebookContainer = gd.closest('#notebook-container');\n",
       "if (notebookContainer) {{\n",
       "    x.observe(notebookContainer, {childList: true});\n",
       "}}\n",
       "\n",
       "// Listen for the clearing of the current output cell\n",
       "var outputEl = gd.closest('.output');\n",
       "if (outputEl) {{\n",
       "    x.observe(outputEl, {childList: true});\n",
       "}}\n",
       "\n",
       "                        })                };                });            </script>        </div>"
      ]
     },
     "metadata": {},
     "output_type": "display_data"
    }
   ],
   "source": [
    "fig = make_subplots(rows=3, cols=1, shared_xaxes=True)\n",
    "\n",
    "\n",
    "\n",
    "fig.add_trace(go.Scatter(x=df.index, y=df[\"val_loss\"],name=\"valid_loss\"), row=1, col=1)\n",
    "fig.add_trace(go.Scatter(x=df.index, y=df[\"train_loss\"],name=\"train\"), row=1, col=1)\n",
    "\n",
    "fig.add_trace(go.Scatter(x=df.index, y=df[\"val_acc\"],name=\"valid_acc\"), row=2, col=1)\n",
    "fig.add_trace(go.Scatter(x=df.index, y=df[\"train_acc\"],name=\"train_acc\"), row=2, col=1)\n",
    "\n",
    "fig.add_trace(go.Scatter(x=df.index, y=df[\"val_off_by_1\"],name=\"valid_ob1\"), row=3, col=1)\n",
    "fig.add_trace(go.Scatter(x=df.index, y=df[\"train_off_by_1\"],name=\"train_ob1\"), row=3, col=1)\n",
    "\n",
    "\n",
    "#fig.add_trace(go.Scatter(x=residual.index, y=residual,name=\"residual\"), row=3, col=1)\n",
    "\n",
    "fig.update_layout(height=1300)\n",
    "fig.show()"
   ]
  },
  {
   "cell_type": "code",
   "execution_count": null,
   "id": "5ba409c8-e4ec-4aa7-b972-987b98b07cdb",
   "metadata": {},
   "outputs": [],
   "source": []
  }
 ],
 "metadata": {
  "kernelspec": {
   "display_name": "Python 3 (ipykernel)",
   "language": "python",
   "name": "python3"
  },
  "language_info": {
   "codemirror_mode": {
    "name": "ipython",
    "version": 3
   },
   "file_extension": ".py",
   "mimetype": "text/x-python",
   "name": "python",
   "nbconvert_exporter": "python",
   "pygments_lexer": "ipython3",
   "version": "3.8.10"
  }
 },
 "nbformat": 4,
 "nbformat_minor": 5
}
